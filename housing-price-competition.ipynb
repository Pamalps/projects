{
 "cells": [
  {
   "cell_type": "code",
   "execution_count": 1,
   "id": "4636fa07",
   "metadata": {
    "_cell_guid": "b1076dfc-b9ad-4769-8c92-a6c4dae69d19",
    "_uuid": "8f2839f25d086af736a60e9eeb907d3b93b6e0e5",
    "execution": {
     "iopub.execute_input": "2022-03-26T23:48:39.754114Z",
     "iopub.status.busy": "2022-03-26T23:48:39.749075Z",
     "iopub.status.idle": "2022-03-26T23:48:39.761030Z",
     "shell.execute_reply": "2022-03-26T23:48:39.761699Z",
     "shell.execute_reply.started": "2022-03-26T23:42:02.811092Z"
    },
    "papermill": {
     "duration": 0.04144,
     "end_time": "2022-03-26T23:48:39.762116",
     "exception": false,
     "start_time": "2022-03-26T23:48:39.720676",
     "status": "completed"
    },
    "tags": []
   },
   "outputs": [
    {
     "name": "stdout",
     "output_type": "stream",
     "text": [
      "/kaggle/input/home-data-for-ml-course/sample_submission.csv\n",
      "/kaggle/input/home-data-for-ml-course/sample_submission.csv.gz\n",
      "/kaggle/input/home-data-for-ml-course/train.csv.gz\n",
      "/kaggle/input/home-data-for-ml-course/data_description.txt\n",
      "/kaggle/input/home-data-for-ml-course/test.csv.gz\n",
      "/kaggle/input/home-data-for-ml-course/train.csv\n",
      "/kaggle/input/home-data-for-ml-course/test.csv\n"
     ]
    }
   ],
   "source": [
    "# This Python 3 environment comes with many helpful analytics libraries installed\n",
    "# It is defined by the kaggle/python Docker image: https://github.com/kaggle/docker-python\n",
    "# For example, here's several helpful packages to load\n",
    "\n",
    "import numpy as np # linear algebra\n",
    "import pandas as pd # data processing, CSV file I/O (e.g. pd.read_csv)\n",
    "\n",
    "# Input data files are available in the read-only \"../input/\" directory\n",
    "# For example, running this (by clicking run or pressing Shift+Enter) will list all files under the input directory\n",
    "\n",
    "import os\n",
    "for dirname, _, filenames in os.walk('/kaggle/input'):\n",
    "    for filename in filenames:\n",
    "        print(os.path.join(dirname, filename))\n",
    "\n",
    "# You can write up to 20GB to the current directory (/kaggle/working/) that gets preserved as output when you create a version using \"Save & Run All\" \n",
    "# You can also write temporary files to /kaggle/temp/, but they won't be saved outside of the current session"
   ]
  },
  {
   "cell_type": "markdown",
   "id": "94cec337",
   "metadata": {
    "papermill": {
     "duration": 0.01865,
     "end_time": "2022-03-26T23:48:39.801356",
     "exception": false,
     "start_time": "2022-03-26T23:48:39.782706",
     "status": "completed"
    },
    "tags": []
   },
   "source": [
    "# Import libaries"
   ]
  },
  {
   "cell_type": "code",
   "execution_count": 2,
   "id": "704aa738",
   "metadata": {
    "execution": {
     "iopub.execute_input": "2022-03-26T23:48:39.847838Z",
     "iopub.status.busy": "2022-03-26T23:48:39.847114Z",
     "iopub.status.idle": "2022-03-26T23:48:41.232903Z",
     "shell.execute_reply": "2022-03-26T23:48:41.232224Z",
     "shell.execute_reply.started": "2022-03-26T23:42:43.955781Z"
    },
    "papermill": {
     "duration": 1.412918,
     "end_time": "2022-03-26T23:48:41.233090",
     "exception": false,
     "start_time": "2022-03-26T23:48:39.820172",
     "status": "completed"
    },
    "tags": []
   },
   "outputs": [],
   "source": [
    "import pandas as pd                                     # Data analysis tool\n",
    "import numpy as np                                      # Package for scientific computing\n",
    "from sklearn.model_selection import train_test_split    # Splits arrays or matrices into random train and test subsets\n",
    "from sklearn.model_selection import KFold               # Cross-validator\n",
    "from sklearn.model_selection import cross_validate      # Evaluate metrics by cross-validation\n",
    "from sklearn.model_selection import GridSearchCV        # Search over specified parameter values for an estimator\n",
    "from sklearn.compose import ColumnTransformer           # Applies transformers to columns of DataFrames\n",
    "from sklearn.pipeline import Pipeline                   # Helps building a chain of transforms and estimators\n",
    "from sklearn.impute import SimpleImputer                # Imputation transformer for completing missing values\n",
    "from sklearn.preprocessing import OneHotEncoder         # Encode categorical features\n",
    "from sklearn.metrics import mean_absolute_error         # One of many statistical measures of error\n",
    "from xgboost import XGBRegressor                        # Our model estimator"
   ]
  },
  {
   "cell_type": "code",
   "execution_count": 3,
   "id": "0b306f28",
   "metadata": {
    "execution": {
     "iopub.execute_input": "2022-03-26T23:48:41.278586Z",
     "iopub.status.busy": "2022-03-26T23:48:41.277780Z",
     "iopub.status.idle": "2022-03-26T23:48:41.370076Z",
     "shell.execute_reply": "2022-03-26T23:48:41.369246Z",
     "shell.execute_reply.started": "2022-03-26T23:42:47.092781Z"
    },
    "papermill": {
     "duration": 0.11819,
     "end_time": "2022-03-26T23:48:41.370228",
     "exception": false,
     "start_time": "2022-03-26T23:48:41.252038",
     "status": "completed"
    },
    "tags": []
   },
   "outputs": [],
   "source": [
    "# Read training and test sets\n",
    "X_full = pd.read_csv('../input/home-data-for-ml-course/train.csv', index_col='Id')\n",
    "X_test_full = pd.read_csv('../input/home-data-for-ml-course/test.csv', index_col='Id')\n",
    "\n",
    "# Obtain target vectors and predictors\n",
    "X = X_full.copy()\n",
    "y = X.SalePrice\n",
    "X.drop(['SalePrice'], axis=1, inplace=True)"
   ]
  },
  {
   "cell_type": "markdown",
   "id": "4c2a0cb7",
   "metadata": {
    "papermill": {
     "duration": 0.019602,
     "end_time": "2022-03-26T23:48:41.412769",
     "exception": false,
     "start_time": "2022-03-26T23:48:41.393167",
     "status": "completed"
    },
    "tags": []
   },
   "source": [
    "# Training and validation split"
   ]
  },
  {
   "cell_type": "code",
   "execution_count": 4,
   "id": "713ac7e1",
   "metadata": {
    "execution": {
     "iopub.execute_input": "2022-03-26T23:48:41.456854Z",
     "iopub.status.busy": "2022-03-26T23:48:41.455804Z",
     "iopub.status.idle": "2022-03-26T23:48:41.461843Z",
     "shell.execute_reply": "2022-03-26T23:48:41.462444Z",
     "shell.execute_reply.started": "2022-03-26T23:42:50.635694Z"
    },
    "papermill": {
     "duration": 0.03106,
     "end_time": "2022-03-26T23:48:41.462623",
     "exception": false,
     "start_time": "2022-03-26T23:48:41.431563",
     "status": "completed"
    },
    "tags": []
   },
   "outputs": [],
   "source": [
    "\n",
    "# Split training and validation sets\n",
    "X_train_full, X_valid_full, y_train, y_valid = train_test_split(X, y, \n",
    "                                                                train_size=0.8, \n",
    "                                                                test_size=0.2, \n",
    "                                                                random_state=0)"
   ]
  },
  {
   "cell_type": "code",
   "execution_count": 5,
   "id": "65d921b9",
   "metadata": {
    "execution": {
     "iopub.execute_input": "2022-03-26T23:48:41.504733Z",
     "iopub.status.busy": "2022-03-26T23:48:41.503689Z",
     "iopub.status.idle": "2022-03-26T23:48:41.544765Z",
     "shell.execute_reply": "2022-03-26T23:48:41.545340Z",
     "shell.execute_reply.started": "2022-03-26T23:42:57.990629Z"
    },
    "papermill": {
     "duration": 0.063893,
     "end_time": "2022-03-26T23:48:41.545522",
     "exception": false,
     "start_time": "2022-03-26T23:48:41.481629",
     "status": "completed"
    },
    "tags": []
   },
   "outputs": [
    {
     "data": {
      "text/html": [
       "<div>\n",
       "<style scoped>\n",
       "    .dataframe tbody tr th:only-of-type {\n",
       "        vertical-align: middle;\n",
       "    }\n",
       "\n",
       "    .dataframe tbody tr th {\n",
       "        vertical-align: top;\n",
       "    }\n",
       "\n",
       "    .dataframe thead th {\n",
       "        text-align: right;\n",
       "    }\n",
       "</style>\n",
       "<table border=\"1\" class=\"dataframe\">\n",
       "  <thead>\n",
       "    <tr style=\"text-align: right;\">\n",
       "      <th></th>\n",
       "      <th>MSSubClass</th>\n",
       "      <th>MSZoning</th>\n",
       "      <th>LotFrontage</th>\n",
       "      <th>LotArea</th>\n",
       "      <th>Street</th>\n",
       "      <th>Alley</th>\n",
       "      <th>LotShape</th>\n",
       "      <th>LandContour</th>\n",
       "      <th>Utilities</th>\n",
       "      <th>LotConfig</th>\n",
       "      <th>...</th>\n",
       "      <th>ScreenPorch</th>\n",
       "      <th>PoolArea</th>\n",
       "      <th>PoolQC</th>\n",
       "      <th>Fence</th>\n",
       "      <th>MiscFeature</th>\n",
       "      <th>MiscVal</th>\n",
       "      <th>MoSold</th>\n",
       "      <th>YrSold</th>\n",
       "      <th>SaleType</th>\n",
       "      <th>SaleCondition</th>\n",
       "    </tr>\n",
       "    <tr>\n",
       "      <th>Id</th>\n",
       "      <th></th>\n",
       "      <th></th>\n",
       "      <th></th>\n",
       "      <th></th>\n",
       "      <th></th>\n",
       "      <th></th>\n",
       "      <th></th>\n",
       "      <th></th>\n",
       "      <th></th>\n",
       "      <th></th>\n",
       "      <th></th>\n",
       "      <th></th>\n",
       "      <th></th>\n",
       "      <th></th>\n",
       "      <th></th>\n",
       "      <th></th>\n",
       "      <th></th>\n",
       "      <th></th>\n",
       "      <th></th>\n",
       "      <th></th>\n",
       "      <th></th>\n",
       "    </tr>\n",
       "  </thead>\n",
       "  <tbody>\n",
       "    <tr>\n",
       "      <th>619</th>\n",
       "      <td>20</td>\n",
       "      <td>RL</td>\n",
       "      <td>90.0</td>\n",
       "      <td>11694</td>\n",
       "      <td>Pave</td>\n",
       "      <td>NaN</td>\n",
       "      <td>Reg</td>\n",
       "      <td>Lvl</td>\n",
       "      <td>AllPub</td>\n",
       "      <td>Inside</td>\n",
       "      <td>...</td>\n",
       "      <td>260</td>\n",
       "      <td>0</td>\n",
       "      <td>NaN</td>\n",
       "      <td>NaN</td>\n",
       "      <td>NaN</td>\n",
       "      <td>0</td>\n",
       "      <td>7</td>\n",
       "      <td>2007</td>\n",
       "      <td>New</td>\n",
       "      <td>Partial</td>\n",
       "    </tr>\n",
       "    <tr>\n",
       "      <th>871</th>\n",
       "      <td>20</td>\n",
       "      <td>RL</td>\n",
       "      <td>60.0</td>\n",
       "      <td>6600</td>\n",
       "      <td>Pave</td>\n",
       "      <td>NaN</td>\n",
       "      <td>Reg</td>\n",
       "      <td>Lvl</td>\n",
       "      <td>AllPub</td>\n",
       "      <td>Inside</td>\n",
       "      <td>...</td>\n",
       "      <td>0</td>\n",
       "      <td>0</td>\n",
       "      <td>NaN</td>\n",
       "      <td>NaN</td>\n",
       "      <td>NaN</td>\n",
       "      <td>0</td>\n",
       "      <td>8</td>\n",
       "      <td>2009</td>\n",
       "      <td>WD</td>\n",
       "      <td>Normal</td>\n",
       "    </tr>\n",
       "    <tr>\n",
       "      <th>93</th>\n",
       "      <td>30</td>\n",
       "      <td>RL</td>\n",
       "      <td>80.0</td>\n",
       "      <td>13360</td>\n",
       "      <td>Pave</td>\n",
       "      <td>Grvl</td>\n",
       "      <td>IR1</td>\n",
       "      <td>HLS</td>\n",
       "      <td>AllPub</td>\n",
       "      <td>Inside</td>\n",
       "      <td>...</td>\n",
       "      <td>0</td>\n",
       "      <td>0</td>\n",
       "      <td>NaN</td>\n",
       "      <td>NaN</td>\n",
       "      <td>NaN</td>\n",
       "      <td>0</td>\n",
       "      <td>8</td>\n",
       "      <td>2009</td>\n",
       "      <td>WD</td>\n",
       "      <td>Normal</td>\n",
       "    </tr>\n",
       "    <tr>\n",
       "      <th>818</th>\n",
       "      <td>20</td>\n",
       "      <td>RL</td>\n",
       "      <td>NaN</td>\n",
       "      <td>13265</td>\n",
       "      <td>Pave</td>\n",
       "      <td>NaN</td>\n",
       "      <td>IR1</td>\n",
       "      <td>Lvl</td>\n",
       "      <td>AllPub</td>\n",
       "      <td>CulDSac</td>\n",
       "      <td>...</td>\n",
       "      <td>0</td>\n",
       "      <td>0</td>\n",
       "      <td>NaN</td>\n",
       "      <td>NaN</td>\n",
       "      <td>NaN</td>\n",
       "      <td>0</td>\n",
       "      <td>7</td>\n",
       "      <td>2008</td>\n",
       "      <td>WD</td>\n",
       "      <td>Normal</td>\n",
       "    </tr>\n",
       "    <tr>\n",
       "      <th>303</th>\n",
       "      <td>20</td>\n",
       "      <td>RL</td>\n",
       "      <td>118.0</td>\n",
       "      <td>13704</td>\n",
       "      <td>Pave</td>\n",
       "      <td>NaN</td>\n",
       "      <td>IR1</td>\n",
       "      <td>Lvl</td>\n",
       "      <td>AllPub</td>\n",
       "      <td>Corner</td>\n",
       "      <td>...</td>\n",
       "      <td>0</td>\n",
       "      <td>0</td>\n",
       "      <td>NaN</td>\n",
       "      <td>NaN</td>\n",
       "      <td>NaN</td>\n",
       "      <td>0</td>\n",
       "      <td>1</td>\n",
       "      <td>2006</td>\n",
       "      <td>WD</td>\n",
       "      <td>Normal</td>\n",
       "    </tr>\n",
       "    <tr>\n",
       "      <th>...</th>\n",
       "      <td>...</td>\n",
       "      <td>...</td>\n",
       "      <td>...</td>\n",
       "      <td>...</td>\n",
       "      <td>...</td>\n",
       "      <td>...</td>\n",
       "      <td>...</td>\n",
       "      <td>...</td>\n",
       "      <td>...</td>\n",
       "      <td>...</td>\n",
       "      <td>...</td>\n",
       "      <td>...</td>\n",
       "      <td>...</td>\n",
       "      <td>...</td>\n",
       "      <td>...</td>\n",
       "      <td>...</td>\n",
       "      <td>...</td>\n",
       "      <td>...</td>\n",
       "      <td>...</td>\n",
       "      <td>...</td>\n",
       "      <td>...</td>\n",
       "    </tr>\n",
       "    <tr>\n",
       "      <th>764</th>\n",
       "      <td>60</td>\n",
       "      <td>RL</td>\n",
       "      <td>82.0</td>\n",
       "      <td>9430</td>\n",
       "      <td>Pave</td>\n",
       "      <td>NaN</td>\n",
       "      <td>Reg</td>\n",
       "      <td>Lvl</td>\n",
       "      <td>AllPub</td>\n",
       "      <td>Inside</td>\n",
       "      <td>...</td>\n",
       "      <td>180</td>\n",
       "      <td>0</td>\n",
       "      <td>NaN</td>\n",
       "      <td>NaN</td>\n",
       "      <td>NaN</td>\n",
       "      <td>0</td>\n",
       "      <td>7</td>\n",
       "      <td>2009</td>\n",
       "      <td>WD</td>\n",
       "      <td>Normal</td>\n",
       "    </tr>\n",
       "    <tr>\n",
       "      <th>836</th>\n",
       "      <td>20</td>\n",
       "      <td>RL</td>\n",
       "      <td>60.0</td>\n",
       "      <td>9600</td>\n",
       "      <td>Pave</td>\n",
       "      <td>NaN</td>\n",
       "      <td>Reg</td>\n",
       "      <td>Lvl</td>\n",
       "      <td>AllPub</td>\n",
       "      <td>Inside</td>\n",
       "      <td>...</td>\n",
       "      <td>0</td>\n",
       "      <td>0</td>\n",
       "      <td>NaN</td>\n",
       "      <td>NaN</td>\n",
       "      <td>NaN</td>\n",
       "      <td>0</td>\n",
       "      <td>2</td>\n",
       "      <td>2010</td>\n",
       "      <td>WD</td>\n",
       "      <td>Normal</td>\n",
       "    </tr>\n",
       "    <tr>\n",
       "      <th>1217</th>\n",
       "      <td>90</td>\n",
       "      <td>RM</td>\n",
       "      <td>68.0</td>\n",
       "      <td>8930</td>\n",
       "      <td>Pave</td>\n",
       "      <td>NaN</td>\n",
       "      <td>Reg</td>\n",
       "      <td>Lvl</td>\n",
       "      <td>AllPub</td>\n",
       "      <td>Inside</td>\n",
       "      <td>...</td>\n",
       "      <td>0</td>\n",
       "      <td>0</td>\n",
       "      <td>NaN</td>\n",
       "      <td>NaN</td>\n",
       "      <td>NaN</td>\n",
       "      <td>0</td>\n",
       "      <td>4</td>\n",
       "      <td>2010</td>\n",
       "      <td>WD</td>\n",
       "      <td>Normal</td>\n",
       "    </tr>\n",
       "    <tr>\n",
       "      <th>560</th>\n",
       "      <td>120</td>\n",
       "      <td>RL</td>\n",
       "      <td>NaN</td>\n",
       "      <td>3196</td>\n",
       "      <td>Pave</td>\n",
       "      <td>NaN</td>\n",
       "      <td>Reg</td>\n",
       "      <td>Lvl</td>\n",
       "      <td>AllPub</td>\n",
       "      <td>Inside</td>\n",
       "      <td>...</td>\n",
       "      <td>0</td>\n",
       "      <td>0</td>\n",
       "      <td>NaN</td>\n",
       "      <td>NaN</td>\n",
       "      <td>NaN</td>\n",
       "      <td>0</td>\n",
       "      <td>10</td>\n",
       "      <td>2006</td>\n",
       "      <td>WD</td>\n",
       "      <td>Normal</td>\n",
       "    </tr>\n",
       "    <tr>\n",
       "      <th>685</th>\n",
       "      <td>60</td>\n",
       "      <td>RL</td>\n",
       "      <td>58.0</td>\n",
       "      <td>16770</td>\n",
       "      <td>Pave</td>\n",
       "      <td>NaN</td>\n",
       "      <td>IR2</td>\n",
       "      <td>Lvl</td>\n",
       "      <td>AllPub</td>\n",
       "      <td>CulDSac</td>\n",
       "      <td>...</td>\n",
       "      <td>0</td>\n",
       "      <td>0</td>\n",
       "      <td>NaN</td>\n",
       "      <td>NaN</td>\n",
       "      <td>NaN</td>\n",
       "      <td>0</td>\n",
       "      <td>6</td>\n",
       "      <td>2010</td>\n",
       "      <td>WD</td>\n",
       "      <td>Normal</td>\n",
       "    </tr>\n",
       "  </tbody>\n",
       "</table>\n",
       "<p>1168 rows × 79 columns</p>\n",
       "</div>"
      ],
      "text/plain": [
       "      MSSubClass MSZoning  LotFrontage  LotArea Street Alley LotShape  \\\n",
       "Id                                                                      \n",
       "619           20       RL         90.0    11694   Pave   NaN      Reg   \n",
       "871           20       RL         60.0     6600   Pave   NaN      Reg   \n",
       "93            30       RL         80.0    13360   Pave  Grvl      IR1   \n",
       "818           20       RL          NaN    13265   Pave   NaN      IR1   \n",
       "303           20       RL        118.0    13704   Pave   NaN      IR1   \n",
       "...          ...      ...          ...      ...    ...   ...      ...   \n",
       "764           60       RL         82.0     9430   Pave   NaN      Reg   \n",
       "836           20       RL         60.0     9600   Pave   NaN      Reg   \n",
       "1217          90       RM         68.0     8930   Pave   NaN      Reg   \n",
       "560          120       RL          NaN     3196   Pave   NaN      Reg   \n",
       "685           60       RL         58.0    16770   Pave   NaN      IR2   \n",
       "\n",
       "     LandContour Utilities LotConfig  ... ScreenPorch PoolArea PoolQC Fence  \\\n",
       "Id                                    ...                                     \n",
       "619          Lvl    AllPub    Inside  ...         260        0    NaN   NaN   \n",
       "871          Lvl    AllPub    Inside  ...           0        0    NaN   NaN   \n",
       "93           HLS    AllPub    Inside  ...           0        0    NaN   NaN   \n",
       "818          Lvl    AllPub   CulDSac  ...           0        0    NaN   NaN   \n",
       "303          Lvl    AllPub    Corner  ...           0        0    NaN   NaN   \n",
       "...          ...       ...       ...  ...         ...      ...    ...   ...   \n",
       "764          Lvl    AllPub    Inside  ...         180        0    NaN   NaN   \n",
       "836          Lvl    AllPub    Inside  ...           0        0    NaN   NaN   \n",
       "1217         Lvl    AllPub    Inside  ...           0        0    NaN   NaN   \n",
       "560          Lvl    AllPub    Inside  ...           0        0    NaN   NaN   \n",
       "685          Lvl    AllPub   CulDSac  ...           0        0    NaN   NaN   \n",
       "\n",
       "     MiscFeature MiscVal  MoSold  YrSold  SaleType  SaleCondition  \n",
       "Id                                                                 \n",
       "619          NaN       0       7    2007       New        Partial  \n",
       "871          NaN       0       8    2009        WD         Normal  \n",
       "93           NaN       0       8    2009        WD         Normal  \n",
       "818          NaN       0       7    2008        WD         Normal  \n",
       "303          NaN       0       1    2006        WD         Normal  \n",
       "...          ...     ...     ...     ...       ...            ...  \n",
       "764          NaN       0       7    2009        WD         Normal  \n",
       "836          NaN       0       2    2010        WD         Normal  \n",
       "1217         NaN       0       4    2010        WD         Normal  \n",
       "560          NaN       0      10    2006        WD         Normal  \n",
       "685          NaN       0       6    2010        WD         Normal  \n",
       "\n",
       "[1168 rows x 79 columns]"
      ]
     },
     "execution_count": 5,
     "metadata": {},
     "output_type": "execute_result"
    }
   ],
   "source": [
    "X_train_full"
   ]
  },
  {
   "cell_type": "markdown",
   "id": "8b7b4601",
   "metadata": {
    "papermill": {
     "duration": 0.01946,
     "end_time": "2022-03-26T23:48:41.585231",
     "exception": false,
     "start_time": "2022-03-26T23:48:41.565771",
     "status": "completed"
    },
    "tags": []
   },
   "source": [
    "# Preprocessing"
   ]
  },
  {
   "cell_type": "code",
   "execution_count": 6,
   "id": "de244249",
   "metadata": {
    "execution": {
     "iopub.execute_input": "2022-03-26T23:48:41.628479Z",
     "iopub.status.busy": "2022-03-26T23:48:41.627498Z",
     "iopub.status.idle": "2022-03-26T23:48:41.657410Z",
     "shell.execute_reply": "2022-03-26T23:48:41.658010Z",
     "shell.execute_reply.started": "2022-03-26T23:45:59.329909Z"
    },
    "papermill": {
     "duration": 0.053275,
     "end_time": "2022-03-26T23:48:41.658183",
     "exception": false,
     "start_time": "2022-03-26T23:48:41.604908",
     "status": "completed"
    },
    "tags": []
   },
   "outputs": [],
   "source": [
    "# Select categorical columns with no more than 15 unique values\n",
    "categorical_cols = [col for col in X_train_full.columns if \n",
    "                   X_train_full[col].nunique() <= 15 and\n",
    "                   X_train_full[col].dtype == 'object']\n",
    "\n",
    "# Select numeric values\n",
    "numeric_cols = [col for col in X_train_full.columns if\n",
    "                X_train_full[col].dtype in ['int64', 'float64']]\n",
    "\n",
    "# Keep selected columns\n",
    "my_columns = categorical_cols + numeric_cols\n",
    "X_train = X_train_full[my_columns].copy()\n",
    "X_valid = X_valid_full[my_columns].copy()\n",
    "X_test = X_test_full[my_columns].copy()"
   ]
  },
  {
   "cell_type": "markdown",
   "id": "79ba37f7",
   "metadata": {
    "papermill": {
     "duration": 0.01918,
     "end_time": "2022-03-26T23:48:41.696757",
     "exception": false,
     "start_time": "2022-03-26T23:48:41.677577",
     "status": "completed"
    },
    "tags": []
   },
   "source": [
    "# Pipeline"
   ]
  },
  {
   "cell_type": "code",
   "execution_count": 7,
   "id": "0b94b9c5",
   "metadata": {
    "execution": {
     "iopub.execute_input": "2022-03-26T23:48:41.743858Z",
     "iopub.status.busy": "2022-03-26T23:48:41.742770Z",
     "iopub.status.idle": "2022-03-26T23:48:41.744687Z",
     "shell.execute_reply": "2022-03-26T23:48:41.745182Z",
     "shell.execute_reply.started": "2022-03-26T23:46:02.476129Z"
    },
    "papermill": {
     "duration": 0.029115,
     "end_time": "2022-03-26T23:48:41.745365",
     "exception": false,
     "start_time": "2022-03-26T23:48:41.716250",
     "status": "completed"
    },
    "tags": []
   },
   "outputs": [],
   "source": [
    "# Preprocessing numerical values\n",
    "numerical_transformer = SimpleImputer(strategy='mean')\n",
    "\n",
    "# Preprocessing categorical values\n",
    "categorical_transformer = Pipeline(steps=[\n",
    "                                   ('imputer', SimpleImputer(strategy='constant', fill_value='NA')),\n",
    "                                   ('onehot', OneHotEncoder(handle_unknown='ignore'))\n",
    "                                   ])\n",
    "\n",
    "# Pack the preprocessors together\n",
    "preprocessor = ColumnTransformer(transformers=[\n",
    "                                 ('num', numerical_transformer, numeric_cols),\n",
    "                                 ('cat', categorical_transformer, categorical_cols)\n",
    "                                 ])"
   ]
  },
  {
   "cell_type": "markdown",
   "id": "5024df8b",
   "metadata": {
    "papermill": {
     "duration": 0.019614,
     "end_time": "2022-03-26T23:48:41.785314",
     "exception": false,
     "start_time": "2022-03-26T23:48:41.765700",
     "status": "completed"
    },
    "tags": []
   },
   "source": [
    "# Model"
   ]
  },
  {
   "cell_type": "code",
   "execution_count": 8,
   "id": "991c376d",
   "metadata": {
    "execution": {
     "iopub.execute_input": "2022-03-26T23:48:41.829040Z",
     "iopub.status.busy": "2022-03-26T23:48:41.828028Z",
     "iopub.status.idle": "2022-03-26T23:48:42.645629Z",
     "shell.execute_reply": "2022-03-26T23:48:42.646290Z",
     "shell.execute_reply.started": "2022-03-26T23:46:04.049866Z"
    },
    "papermill": {
     "duration": 0.841052,
     "end_time": "2022-03-26T23:48:42.646488",
     "exception": false,
     "start_time": "2022-03-26T23:48:41.805436",
     "status": "completed"
    },
    "tags": []
   },
   "outputs": [
    {
     "name": "stdout",
     "output_type": "stream",
     "text": [
      "MAE: 17158.38955479452\n"
     ]
    }
   ],
   "source": [
    "\n",
    "# Define the model with default parameters\n",
    "model = XGBRegressor(verbosity=0, random_state=0)\n",
    "\n",
    "# Pack preprocessing and modeling together in a pipeline\n",
    "my_pipeline = Pipeline(steps=[('preprocessor', preprocessor),\n",
    "                              ('model', model)\n",
    "                              ])\n",
    "\n",
    "# Preprocessing of training data, fit model \n",
    "my_pipeline.fit(X_train, y_train)\n",
    "\n",
    "# Preprocessing of validation data, get predictions\n",
    "preds = my_pipeline.predict(X_valid)\n",
    "\n",
    "print('MAE:', mean_absolute_error(y_valid, preds))"
   ]
  },
  {
   "cell_type": "markdown",
   "id": "c50c1f8b",
   "metadata": {
    "papermill": {
     "duration": 0.02132,
     "end_time": "2022-03-26T23:48:42.689061",
     "exception": false,
     "start_time": "2022-03-26T23:48:42.667741",
     "status": "completed"
    },
    "tags": []
   },
   "source": [
    "# Cross validation"
   ]
  },
  {
   "cell_type": "code",
   "execution_count": 9,
   "id": "093e0276",
   "metadata": {
    "execution": {
     "iopub.execute_input": "2022-03-26T23:48:42.738336Z",
     "iopub.status.busy": "2022-03-26T23:48:42.735725Z",
     "iopub.status.idle": "2022-03-26T23:48:47.844869Z",
     "shell.execute_reply": "2022-03-26T23:48:47.846079Z",
     "shell.execute_reply.started": "2022-03-26T23:46:06.197194Z"
    },
    "papermill": {
     "duration": 5.137302,
     "end_time": "2022-03-26T23:48:47.846323",
     "exception": false,
     "start_time": "2022-03-26T23:48:42.709021",
     "status": "completed"
    },
    "tags": []
   },
   "outputs": [
    {
     "name": "stdout",
     "output_type": "stream",
     "text": [
      "Average MAE score: 18309.7395617824\n"
     ]
    }
   ],
   "source": [
    "\n",
    "# Using KFold cross-validator\n",
    "kfold = KFold(shuffle=True, random_state=0)\n",
    "\n",
    "# Evaluating the Mean Absolute Error\n",
    "scores = cross_validate(my_pipeline, X_train, y_train, \n",
    "                              scoring='neg_mean_absolute_error', cv=kfold)\n",
    "\n",
    "# Multiply by -1 since sklearn calculates negative MAE\n",
    "print('Average MAE score:', (scores['test_score'] * -1).mean())"
   ]
  },
  {
   "cell_type": "markdown",
   "id": "e278dd19",
   "metadata": {
    "papermill": {
     "duration": 0.020863,
     "end_time": "2022-03-26T23:48:47.889126",
     "exception": false,
     "start_time": "2022-03-26T23:48:47.868263",
     "status": "completed"
    },
    "tags": []
   },
   "source": [
    "# Hyperparameter tuning"
   ]
  },
  {
   "cell_type": "code",
   "execution_count": 10,
   "id": "908d09a5",
   "metadata": {
    "execution": {
     "iopub.execute_input": "2022-03-26T23:48:47.933341Z",
     "iopub.status.busy": "2022-03-26T23:48:47.932620Z",
     "iopub.status.idle": "2022-03-26T23:48:54.105996Z",
     "shell.execute_reply": "2022-03-26T23:48:54.106582Z",
     "shell.execute_reply.started": "2022-03-26T23:47:47.231092Z"
    },
    "papermill": {
     "duration": 6.197235,
     "end_time": "2022-03-26T23:48:54.106787",
     "exception": false,
     "start_time": "2022-03-26T23:48:47.909552",
     "status": "completed"
    },
    "tags": []
   },
   "outputs": [],
   "source": [
    "\n",
    "# parameters to be searched over\n",
    "param_grid = {'model__n_estimators': [10],\n",
    "              'model__max_depth': [2],\n",
    "              'model__min_child_weight': [0.0001],\n",
    "              'model__learning_rate': [0.01]}\n",
    "\n",
    "# find the best parameter\n",
    "kfold = KFold(shuffle=True, random_state=0)\n",
    "grid_search = GridSearchCV(my_pipeline, param_grid, scoring='neg_mean_absolute_error', cv=kfold, n_jobs=-1)\n",
    "grid_result = grid_search.fit(X_train, y_train)"
   ]
  },
  {
   "cell_type": "markdown",
   "id": "ee9e9f64",
   "metadata": {
    "papermill": {
     "duration": 0.020241,
     "end_time": "2022-03-26T23:48:54.148400",
     "exception": false,
     "start_time": "2022-03-26T23:48:54.128159",
     "status": "completed"
    },
    "tags": []
   },
   "source": [
    "# Test predictions"
   ]
  },
  {
   "cell_type": "code",
   "execution_count": 11,
   "id": "aff8494b",
   "metadata": {
    "execution": {
     "iopub.execute_input": "2022-03-26T23:48:54.193512Z",
     "iopub.status.busy": "2022-03-26T23:48:54.192876Z",
     "iopub.status.idle": "2022-03-26T23:48:56.354138Z",
     "shell.execute_reply": "2022-03-26T23:48:56.353471Z",
     "shell.execute_reply.started": "2022-03-26T23:48:08.270030Z"
    },
    "papermill": {
     "duration": 2.184883,
     "end_time": "2022-03-26T23:48:56.354332",
     "exception": false,
     "start_time": "2022-03-26T23:48:54.169449",
     "status": "completed"
    },
    "tags": []
   },
   "outputs": [],
   "source": [
    "# Define final model\n",
    "final_model = XGBRegressor(n_estimators=400, \n",
    "                           max_depth=3, \n",
    "                           min_child_weight=0.0001, \n",
    "                           learning_rate=0.1, \n",
    "                           verbosity=0, \n",
    "                           random_state=0\n",
    "                           )\n",
    "\n",
    "# Create a pipeline\n",
    "final_pipeline = Pipeline(steps=[('preprocessor', preprocessor),\n",
    "                                 ('final_model', final_model)\n",
    "                                 ])\n",
    "\n",
    "# Fit the model\n",
    "final_pipeline.fit(X_train, y_train)\n",
    "\n",
    "# Get predictions on the test set\n",
    "final_prediction = final_pipeline.predict(X_test)"
   ]
  },
  {
   "cell_type": "markdown",
   "id": "c2f8a85f",
   "metadata": {
    "papermill": {
     "duration": 0.020104,
     "end_time": "2022-03-26T23:48:56.396890",
     "exception": false,
     "start_time": "2022-03-26T23:48:56.376786",
     "status": "completed"
    },
    "tags": []
   },
   "source": [
    "# submit results"
   ]
  },
  {
   "cell_type": "code",
   "execution_count": 12,
   "id": "c0bdb4aa",
   "metadata": {
    "execution": {
     "iopub.execute_input": "2022-03-26T23:48:56.444403Z",
     "iopub.status.busy": "2022-03-26T23:48:56.443549Z",
     "iopub.status.idle": "2022-03-26T23:48:56.454624Z",
     "shell.execute_reply": "2022-03-26T23:48:56.453954Z"
    },
    "papermill": {
     "duration": 0.037399,
     "end_time": "2022-03-26T23:48:56.454767",
     "exception": false,
     "start_time": "2022-03-26T23:48:56.417368",
     "status": "completed"
    },
    "tags": []
   },
   "outputs": [],
   "source": [
    "# Save test predictions to .csv file\n",
    "output = pd.DataFrame({'Id': X_test.index,\n",
    "                       'SalePrice': final_prediction})\n",
    "output.to_csv('housing_price_submission.csv', index=False)"
   ]
  }
 ],
 "metadata": {
  "kernelspec": {
   "display_name": "Python 3",
   "language": "python",
   "name": "python3"
  },
  "language_info": {
   "codemirror_mode": {
    "name": "ipython",
    "version": 3
   },
   "file_extension": ".py",
   "mimetype": "text/x-python",
   "name": "python",
   "nbconvert_exporter": "python",
   "pygments_lexer": "ipython3",
   "version": "3.7.12"
  },
  "papermill": {
   "default_parameters": {},
   "duration": 27.971289,
   "end_time": "2022-03-26T23:48:57.487817",
   "environment_variables": {},
   "exception": null,
   "input_path": "__notebook__.ipynb",
   "output_path": "__notebook__.ipynb",
   "parameters": {},
   "start_time": "2022-03-26T23:48:29.516528",
   "version": "2.3.3"
  }
 },
 "nbformat": 4,
 "nbformat_minor": 5
}
