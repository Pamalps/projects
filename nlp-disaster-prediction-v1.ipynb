{
 "cells": [
  {
   "cell_type": "code",
   "execution_count": 1,
   "id": "2c6b1596",
   "metadata": {
    "_cell_guid": "b1076dfc-b9ad-4769-8c92-a6c4dae69d19",
    "_uuid": "8f2839f25d086af736a60e9eeb907d3b93b6e0e5",
    "execution": {
     "iopub.execute_input": "2022-04-03T22:37:48.448864Z",
     "iopub.status.busy": "2022-04-03T22:37:48.448193Z",
     "iopub.status.idle": "2022-04-03T22:37:48.456050Z",
     "shell.execute_reply": "2022-04-03T22:37:48.456621Z",
     "shell.execute_reply.started": "2022-04-03T21:22:14.774494Z"
    },
    "papermill": {
     "duration": 0.053887,
     "end_time": "2022-04-03T22:37:48.456979",
     "exception": false,
     "start_time": "2022-04-03T22:37:48.403092",
     "status": "completed"
    },
    "tags": []
   },
   "outputs": [
    {
     "name": "stdout",
     "output_type": "stream",
     "text": [
      "/kaggle/input/nlp-getting-started/sample_submission.csv\n",
      "/kaggle/input/nlp-getting-started/train.csv\n",
      "/kaggle/input/nlp-getting-started/test.csv\n"
     ]
    }
   ],
   "source": [
    "# This Python 3 environment comes with many helpful analytics libraries installed\n",
    "# It is defined by the kaggle/python Docker image: https://github.com/kaggle/docker-python\n",
    "# For example, here's several helpful packages to load\n",
    "\n",
    "import numpy as np # linear algebra\n",
    "import pandas as pd # data processing, CSV file I/O (e.g. pd.read_csv)\n",
    "\n",
    "# Input data files are available in the read-only \"../input/\" directory\n",
    "# For example, running this (by clicking run or pressing Shift+Enter) will list all files under the input directory\n",
    "\n",
    "import os\n",
    "for dirname, _, filenames in os.walk('/kaggle/input'):\n",
    "    for filename in filenames:\n",
    "        print(os.path.join(dirname, filename))\n",
    "\n",
    "# You can write up to 20GB to the current directory (/kaggle/working/) that gets preserved as output when you create a version using \"Save & Run All\" \n",
    "# You can also write temporary files to /kaggle/temp/, but they won't be saved outside of the current session"
   ]
  },
  {
   "cell_type": "code",
   "execution_count": 2,
   "id": "c7afedd3",
   "metadata": {
    "execution": {
     "iopub.execute_input": "2022-04-03T22:37:48.536802Z",
     "iopub.status.busy": "2022-04-03T22:37:48.535893Z",
     "iopub.status.idle": "2022-04-03T22:37:49.937845Z",
     "shell.execute_reply": "2022-04-03T22:37:49.938404Z",
     "shell.execute_reply.started": "2022-04-03T21:22:49.273292Z"
    },
    "papermill": {
     "duration": 1.445001,
     "end_time": "2022-04-03T22:37:49.938634",
     "exception": false,
     "start_time": "2022-04-03T22:37:48.493633",
     "status": "completed"
    },
    "tags": []
   },
   "outputs": [],
   "source": [
    "#Import the libraries\n",
    "from sklearn.model_selection import train_test_split    # Splits arrays or matrices into random train and test subsets\n",
    "from sklearn.model_selection import KFold               # Cross-validator\n",
    "from sklearn.model_selection import cross_validate      # Evaluate metrics by cross-validation\n",
    "from sklearn.model_selection import GridSearchCV        # Search over specified parameter values for an estimator\n",
    "from sklearn.compose import ColumnTransformer           # Applies transformers to columns of DataFrames\n",
    "from sklearn.pipeline import Pipeline                   # Helps building a chain of transforms and estimators\n",
    "from sklearn.impute import SimpleImputer                # Imputation transformer for completing missing values\n",
    "from sklearn.preprocessing import OneHotEncoder         # Encode categorical features"
   ]
  },
  {
   "cell_type": "markdown",
   "id": "860324d1",
   "metadata": {
    "papermill": {
     "duration": 0.037019,
     "end_time": "2022-04-03T22:37:50.014118",
     "exception": false,
     "start_time": "2022-04-03T22:37:49.977099",
     "status": "completed"
    },
    "tags": []
   },
   "source": [
    "# Import the csv files"
   ]
  },
  {
   "cell_type": "code",
   "execution_count": 3,
   "id": "dc2cf138",
   "metadata": {
    "execution": {
     "iopub.execute_input": "2022-04-03T22:37:50.092389Z",
     "iopub.status.busy": "2022-04-03T22:37:50.091342Z",
     "iopub.status.idle": "2022-04-03T22:37:50.180769Z",
     "shell.execute_reply": "2022-04-03T22:37:50.181400Z",
     "shell.execute_reply.started": "2022-04-03T21:23:02.142217Z"
    },
    "papermill": {
     "duration": 0.131732,
     "end_time": "2022-04-03T22:37:50.181640",
     "exception": false,
     "start_time": "2022-04-03T22:37:50.049908",
     "status": "completed"
    },
    "tags": []
   },
   "outputs": [],
   "source": [
    "df_train=pd.read_csv(\"/kaggle/input/nlp-getting-started/train.csv\", index_col='id')\n",
    "df_test=pd.read_csv(\"/kaggle/input/nlp-getting-started/test.csv\", index_col='id')"
   ]
  },
  {
   "cell_type": "markdown",
   "id": "85f4e790",
   "metadata": {
    "papermill": {
     "duration": 0.035745,
     "end_time": "2022-04-03T22:37:50.253469",
     "exception": false,
     "start_time": "2022-04-03T22:37:50.217724",
     "status": "completed"
    },
    "tags": []
   },
   "source": [
    "The dataset provided has been split into train and test datasets. \n",
    "The train dataset has 7613 rows and 4 columns. The target column is part of the train dataset.\n",
    "The test dataset has 3263 rows and 3 columns. the target column is not part of the test dataset, and needs to be predicted and submitted as part of the competition."
   ]
  },
  {
   "cell_type": "code",
   "execution_count": 4,
   "id": "03750ea2",
   "metadata": {
    "execution": {
     "iopub.execute_input": "2022-04-03T22:37:50.330872Z",
     "iopub.status.busy": "2022-04-03T22:37:50.330121Z",
     "iopub.status.idle": "2022-04-03T22:37:50.335236Z",
     "shell.execute_reply": "2022-04-03T22:37:50.336167Z",
     "shell.execute_reply.started": "2022-04-03T21:24:09.162892Z"
    },
    "papermill": {
     "duration": 0.045257,
     "end_time": "2022-04-03T22:37:50.336457",
     "exception": false,
     "start_time": "2022-04-03T22:37:50.291200",
     "status": "completed"
    },
    "tags": []
   },
   "outputs": [
    {
     "name": "stdout",
     "output_type": "stream",
     "text": [
      "size of train dataset (7613, 4)\n",
      "size of test dataset (3263, 3)\n"
     ]
    }
   ],
   "source": [
    "print(\"size of train dataset\",df_train.shape)\n",
    "print(\"size of test dataset\",df_test.shape)"
   ]
  },
  {
   "cell_type": "markdown",
   "id": "a491e291",
   "metadata": {
    "papermill": {
     "duration": 0.035955,
     "end_time": "2022-04-03T22:37:50.410506",
     "exception": false,
     "start_time": "2022-04-03T22:37:50.374551",
     "status": "completed"
    },
    "tags": []
   },
   "source": [
    "# Test train split"
   ]
  },
  {
   "cell_type": "markdown",
   "id": "33af97f7",
   "metadata": {
    "papermill": {
     "duration": 0.035898,
     "end_time": "2022-04-03T22:37:50.482575",
     "exception": false,
     "start_time": "2022-04-03T22:37:50.446677",
     "status": "completed"
    },
    "tags": []
   },
   "source": [
    "Our model is to be developed on the provided train dataset. So we further split train dataset into train and validation datasets to create and validate different models."
   ]
  },
  {
   "cell_type": "markdown",
   "id": "30ba64f4",
   "metadata": {
    "papermill": {
     "duration": 0.035771,
     "end_time": "2022-04-03T22:37:50.554433",
     "exception": false,
     "start_time": "2022-04-03T22:37:50.518662",
     "status": "completed"
    },
    "tags": []
   },
   "source": [
    "### Split the train dataset into predictor and response variables"
   ]
  },
  {
   "cell_type": "code",
   "execution_count": 5,
   "id": "83dc8ac2",
   "metadata": {
    "execution": {
     "iopub.execute_input": "2022-04-03T22:37:50.632563Z",
     "iopub.status.busy": "2022-04-03T22:37:50.631846Z",
     "iopub.status.idle": "2022-04-03T22:37:50.634783Z",
     "shell.execute_reply": "2022-04-03T22:37:50.635298Z",
     "shell.execute_reply.started": "2022-04-03T21:28:41.136669Z"
    },
    "papermill": {
     "duration": 0.044991,
     "end_time": "2022-04-03T22:37:50.635500",
     "exception": false,
     "start_time": "2022-04-03T22:37:50.590509",
     "status": "completed"
    },
    "tags": []
   },
   "outputs": [],
   "source": [
    "X = df_train.iloc[:,:-1] #the predictor columns are all columns except the target column\n",
    "y = df_train.iloc[:,-1:] #the target column is the last column "
   ]
  },
  {
   "cell_type": "code",
   "execution_count": 6,
   "id": "9f584843",
   "metadata": {
    "execution": {
     "iopub.execute_input": "2022-04-03T22:37:50.711494Z",
     "iopub.status.busy": "2022-04-03T22:37:50.710789Z",
     "iopub.status.idle": "2022-04-03T22:37:50.719784Z",
     "shell.execute_reply": "2022-04-03T22:37:50.720355Z",
     "shell.execute_reply.started": "2022-04-03T21:28:42.688161Z"
    },
    "papermill": {
     "duration": 0.048626,
     "end_time": "2022-04-03T22:37:50.720573",
     "exception": false,
     "start_time": "2022-04-03T22:37:50.671947",
     "status": "completed"
    },
    "tags": []
   },
   "outputs": [],
   "source": [
    "X_train_full, X_valid_full, y_train, y_valid = train_test_split(X, y, \n",
    "                                                                train_size=0.8, \n",
    "                                                                test_size=0.2, \n",
    "                                                                random_state=0)"
   ]
  },
  {
   "cell_type": "code",
   "execution_count": 7,
   "id": "83474955",
   "metadata": {
    "execution": {
     "iopub.execute_input": "2022-04-03T22:37:50.800387Z",
     "iopub.status.busy": "2022-04-03T22:37:50.799596Z",
     "iopub.status.idle": "2022-04-03T22:37:50.805423Z",
     "shell.execute_reply": "2022-04-03T22:37:50.806241Z",
     "shell.execute_reply.started": "2022-04-03T21:31:06.928564Z"
    },
    "papermill": {
     "duration": 0.046661,
     "end_time": "2022-04-03T22:37:50.806531",
     "exception": false,
     "start_time": "2022-04-03T22:37:50.759870",
     "status": "completed"
    },
    "tags": []
   },
   "outputs": [
    {
     "name": "stdout",
     "output_type": "stream",
     "text": [
      "size of X_train: predictors (6090, 3)\n",
      "size of X_valid: predictors (1523, 3)\n",
      "size of y_train: response (6090, 1)\n",
      "size of y_valid: response (1523, 1)\n"
     ]
    }
   ],
   "source": [
    "print(\"size of X_train: predictors\",X_train_full.shape)\n",
    "print(\"size of X_valid: predictors\",X_valid_full.shape)\n",
    "print(\"size of y_train: response\",y_train.shape)\n",
    "print(\"size of y_valid: response\",y_valid.shape)"
   ]
  },
  {
   "cell_type": "markdown",
   "id": "16485278",
   "metadata": {
    "papermill": {
     "duration": 0.036473,
     "end_time": "2022-04-03T22:37:50.880810",
     "exception": false,
     "start_time": "2022-04-03T22:37:50.844337",
     "status": "completed"
    },
    "tags": []
   },
   "source": [
    "# EDA"
   ]
  },
  {
   "cell_type": "markdown",
   "id": "a15e7b4d",
   "metadata": {
    "execution": {
     "iopub.execute_input": "2022-04-03T21:32:27.741747Z",
     "iopub.status.busy": "2022-04-03T21:32:27.741118Z",
     "iopub.status.idle": "2022-04-03T21:32:27.748495Z",
     "shell.execute_reply": "2022-04-03T21:32:27.747060Z",
     "shell.execute_reply.started": "2022-04-03T21:32:27.741685Z"
    },
    "papermill": {
     "duration": 0.03642,
     "end_time": "2022-04-03T22:37:50.954752",
     "exception": false,
     "start_time": "2022-04-03T22:37:50.918332",
     "status": "completed"
    },
    "tags": []
   },
   "source": [
    "Exploratory analysis on our new training dataset"
   ]
  },
  {
   "cell_type": "code",
   "execution_count": 8,
   "id": "e7763862",
   "metadata": {
    "execution": {
     "iopub.execute_input": "2022-04-03T22:37:51.038260Z",
     "iopub.status.busy": "2022-04-03T22:37:51.037557Z",
     "iopub.status.idle": "2022-04-03T22:37:51.052800Z",
     "shell.execute_reply": "2022-04-03T22:37:51.053567Z",
     "shell.execute_reply.started": "2022-04-03T21:32:41.652366Z"
    },
    "papermill": {
     "duration": 0.062165,
     "end_time": "2022-04-03T22:37:51.053920",
     "exception": false,
     "start_time": "2022-04-03T22:37:50.991755",
     "status": "completed"
    },
    "tags": []
   },
   "outputs": [
    {
     "name": "stdout",
     "output_type": "stream",
     "text": [
      "<class 'pandas.core.frame.DataFrame'>\n",
      "Int64Index: 6090 entries, 1999 to 3924\n",
      "Data columns (total 3 columns):\n",
      " #   Column    Non-Null Count  Dtype \n",
      "---  ------    --------------  ----- \n",
      " 0   keyword   6044 non-null   object\n",
      " 1   location  4075 non-null   object\n",
      " 2   text      6090 non-null   object\n",
      "dtypes: object(3)\n",
      "memory usage: 190.3+ KB\n"
     ]
    }
   ],
   "source": [
    "X_train_full.info()"
   ]
  },
  {
   "cell_type": "markdown",
   "id": "b13eb6f2",
   "metadata": {
    "papermill": {
     "duration": 0.036935,
     "end_time": "2022-04-03T22:37:51.129488",
     "exception": false,
     "start_time": "2022-04-03T22:37:51.092553",
     "status": "completed"
    },
    "tags": []
   },
   "source": []
  },
  {
   "cell_type": "markdown",
   "id": "a9f75b0c",
   "metadata": {
    "papermill": {
     "duration": 0.036627,
     "end_time": "2022-04-03T22:37:51.203546",
     "exception": false,
     "start_time": "2022-04-03T22:37:51.166919",
     "status": "completed"
    },
    "tags": []
   },
   "source": [
    "We see that location and keywords have some nulls."
   ]
  },
  {
   "cell_type": "markdown",
   "id": "77d15ad7",
   "metadata": {
    "papermill": {
     "duration": 0.036998,
     "end_time": "2022-04-03T22:37:51.277528",
     "exception": false,
     "start_time": "2022-04-03T22:37:51.240530",
     "status": "completed"
    },
    "tags": []
   },
   "source": [
    "## check the balance of the dataset"
   ]
  },
  {
   "cell_type": "code",
   "execution_count": 9,
   "id": "70c8c3ee",
   "metadata": {
    "execution": {
     "iopub.execute_input": "2022-04-03T22:37:51.364979Z",
     "iopub.status.busy": "2022-04-03T22:37:51.364124Z",
     "iopub.status.idle": "2022-04-03T22:37:51.367951Z",
     "shell.execute_reply": "2022-04-03T22:37:51.368554Z",
     "shell.execute_reply.started": "2022-04-03T21:46:13.755111Z"
    },
    "papermill": {
     "duration": 0.05408,
     "end_time": "2022-04-03T22:37:51.368777",
     "exception": false,
     "start_time": "2022-04-03T22:37:51.314697",
     "status": "completed"
    },
    "tags": []
   },
   "outputs": [
    {
     "data": {
      "text/plain": [
       "target\n",
       "0    3456\n",
       "1    2634\n",
       "dtype: int64"
      ]
     },
     "execution_count": 9,
     "metadata": {},
     "output_type": "execute_result"
    }
   ],
   "source": [
    "y_train.groupby(['target']).size()"
   ]
  },
  {
   "cell_type": "markdown",
   "id": "2e6f6154",
   "metadata": {
    "papermill": {
     "duration": 0.046247,
     "end_time": "2022-04-03T22:37:51.461577",
     "exception": false,
     "start_time": "2022-04-03T22:37:51.415330",
     "status": "completed"
    },
    "tags": []
   },
   "source": [
    "So we see that its a well balanced dataset."
   ]
  },
  {
   "cell_type": "markdown",
   "id": "c1b9abd9",
   "metadata": {
    "papermill": {
     "duration": 0.04623,
     "end_time": "2022-04-03T22:37:51.554734",
     "exception": false,
     "start_time": "2022-04-03T22:37:51.508504",
     "status": "completed"
    },
    "tags": []
   },
   "source": [
    "## check examples of disaster and non disaster tweets"
   ]
  },
  {
   "cell_type": "code",
   "execution_count": 10,
   "id": "513877f0",
   "metadata": {
    "execution": {
     "iopub.execute_input": "2022-04-03T22:37:51.651827Z",
     "iopub.status.busy": "2022-04-03T22:37:51.651042Z",
     "iopub.status.idle": "2022-04-03T22:37:51.669949Z",
     "shell.execute_reply": "2022-04-03T22:37:51.670545Z",
     "shell.execute_reply.started": "2022-04-03T21:52:03.326599Z"
    },
    "papermill": {
     "duration": 0.069202,
     "end_time": "2022-04-03T22:37:51.670765",
     "exception": false,
     "start_time": "2022-04-03T22:37:51.601563",
     "status": "completed"
    },
    "tags": []
   },
   "outputs": [
    {
     "data": {
      "text/html": [
       "<div>\n",
       "<style scoped>\n",
       "    .dataframe tbody tr th:only-of-type {\n",
       "        vertical-align: middle;\n",
       "    }\n",
       "\n",
       "    .dataframe tbody tr th {\n",
       "        vertical-align: top;\n",
       "    }\n",
       "\n",
       "    .dataframe thead th {\n",
       "        text-align: right;\n",
       "    }\n",
       "</style>\n",
       "<table border=\"1\" class=\"dataframe\">\n",
       "  <thead>\n",
       "    <tr style=\"text-align: right;\">\n",
       "      <th></th>\n",
       "      <th>keyword</th>\n",
       "      <th>location</th>\n",
       "      <th>text</th>\n",
       "      <th>target</th>\n",
       "    </tr>\n",
       "    <tr>\n",
       "      <th>id</th>\n",
       "      <th></th>\n",
       "      <th></th>\n",
       "      <th></th>\n",
       "      <th></th>\n",
       "    </tr>\n",
       "  </thead>\n",
       "  <tbody>\n",
       "    <tr>\n",
       "      <th>23</th>\n",
       "      <td>NaN</td>\n",
       "      <td>NaN</td>\n",
       "      <td>What's up man?</td>\n",
       "      <td>0</td>\n",
       "    </tr>\n",
       "    <tr>\n",
       "      <th>24</th>\n",
       "      <td>NaN</td>\n",
       "      <td>NaN</td>\n",
       "      <td>I love fruits</td>\n",
       "      <td>0</td>\n",
       "    </tr>\n",
       "    <tr>\n",
       "      <th>25</th>\n",
       "      <td>NaN</td>\n",
       "      <td>NaN</td>\n",
       "      <td>Summer is lovely</td>\n",
       "      <td>0</td>\n",
       "    </tr>\n",
       "    <tr>\n",
       "      <th>26</th>\n",
       "      <td>NaN</td>\n",
       "      <td>NaN</td>\n",
       "      <td>My car is so fast</td>\n",
       "      <td>0</td>\n",
       "    </tr>\n",
       "    <tr>\n",
       "      <th>28</th>\n",
       "      <td>NaN</td>\n",
       "      <td>NaN</td>\n",
       "      <td>What a goooooooaaaaaal!!!!!!</td>\n",
       "      <td>0</td>\n",
       "    </tr>\n",
       "    <tr>\n",
       "      <th>31</th>\n",
       "      <td>NaN</td>\n",
       "      <td>NaN</td>\n",
       "      <td>this is ridiculous....</td>\n",
       "      <td>0</td>\n",
       "    </tr>\n",
       "    <tr>\n",
       "      <th>32</th>\n",
       "      <td>NaN</td>\n",
       "      <td>NaN</td>\n",
       "      <td>London is cool ;)</td>\n",
       "      <td>0</td>\n",
       "    </tr>\n",
       "    <tr>\n",
       "      <th>33</th>\n",
       "      <td>NaN</td>\n",
       "      <td>NaN</td>\n",
       "      <td>Love skiing</td>\n",
       "      <td>0</td>\n",
       "    </tr>\n",
       "    <tr>\n",
       "      <th>34</th>\n",
       "      <td>NaN</td>\n",
       "      <td>NaN</td>\n",
       "      <td>What a wonderful day!</td>\n",
       "      <td>0</td>\n",
       "    </tr>\n",
       "    <tr>\n",
       "      <th>36</th>\n",
       "      <td>NaN</td>\n",
       "      <td>NaN</td>\n",
       "      <td>LOOOOOOL</td>\n",
       "      <td>0</td>\n",
       "    </tr>\n",
       "  </tbody>\n",
       "</table>\n",
       "</div>"
      ],
      "text/plain": [
       "   keyword location                          text  target\n",
       "id                                                       \n",
       "23     NaN      NaN                What's up man?       0\n",
       "24     NaN      NaN                 I love fruits       0\n",
       "25     NaN      NaN              Summer is lovely       0\n",
       "26     NaN      NaN             My car is so fast       0\n",
       "28     NaN      NaN  What a goooooooaaaaaal!!!!!!       0\n",
       "31     NaN      NaN        this is ridiculous....       0\n",
       "32     NaN      NaN             London is cool ;)       0\n",
       "33     NaN      NaN                   Love skiing       0\n",
       "34     NaN      NaN         What a wonderful day!       0\n",
       "36     NaN      NaN                      LOOOOOOL       0"
      ]
     },
     "execution_count": 10,
     "metadata": {},
     "output_type": "execute_result"
    }
   ],
   "source": [
    "df_train[df_train['target']==0].head(10)"
   ]
  },
  {
   "cell_type": "code",
   "execution_count": 11,
   "id": "cfb37d0f",
   "metadata": {
    "execution": {
     "iopub.execute_input": "2022-04-03T22:37:51.750548Z",
     "iopub.status.busy": "2022-04-03T22:37:51.749837Z",
     "iopub.status.idle": "2022-04-03T22:37:51.761387Z",
     "shell.execute_reply": "2022-04-03T22:37:51.762011Z",
     "shell.execute_reply.started": "2022-04-03T21:52:23.788889Z"
    },
    "papermill": {
     "duration": 0.05322,
     "end_time": "2022-04-03T22:37:51.762217",
     "exception": false,
     "start_time": "2022-04-03T22:37:51.708997",
     "status": "completed"
    },
    "tags": []
   },
   "outputs": [
    {
     "data": {
      "text/html": [
       "<div>\n",
       "<style scoped>\n",
       "    .dataframe tbody tr th:only-of-type {\n",
       "        vertical-align: middle;\n",
       "    }\n",
       "\n",
       "    .dataframe tbody tr th {\n",
       "        vertical-align: top;\n",
       "    }\n",
       "\n",
       "    .dataframe thead th {\n",
       "        text-align: right;\n",
       "    }\n",
       "</style>\n",
       "<table border=\"1\" class=\"dataframe\">\n",
       "  <thead>\n",
       "    <tr style=\"text-align: right;\">\n",
       "      <th></th>\n",
       "      <th>keyword</th>\n",
       "      <th>location</th>\n",
       "      <th>text</th>\n",
       "      <th>target</th>\n",
       "    </tr>\n",
       "    <tr>\n",
       "      <th>id</th>\n",
       "      <th></th>\n",
       "      <th></th>\n",
       "      <th></th>\n",
       "      <th></th>\n",
       "    </tr>\n",
       "  </thead>\n",
       "  <tbody>\n",
       "    <tr>\n",
       "      <th>1</th>\n",
       "      <td>NaN</td>\n",
       "      <td>NaN</td>\n",
       "      <td>Our Deeds are the Reason of this #earthquake M...</td>\n",
       "      <td>1</td>\n",
       "    </tr>\n",
       "    <tr>\n",
       "      <th>4</th>\n",
       "      <td>NaN</td>\n",
       "      <td>NaN</td>\n",
       "      <td>Forest fire near La Ronge Sask. Canada</td>\n",
       "      <td>1</td>\n",
       "    </tr>\n",
       "    <tr>\n",
       "      <th>5</th>\n",
       "      <td>NaN</td>\n",
       "      <td>NaN</td>\n",
       "      <td>All residents asked to 'shelter in place' are ...</td>\n",
       "      <td>1</td>\n",
       "    </tr>\n",
       "    <tr>\n",
       "      <th>6</th>\n",
       "      <td>NaN</td>\n",
       "      <td>NaN</td>\n",
       "      <td>13,000 people receive #wildfires evacuation or...</td>\n",
       "      <td>1</td>\n",
       "    </tr>\n",
       "    <tr>\n",
       "      <th>7</th>\n",
       "      <td>NaN</td>\n",
       "      <td>NaN</td>\n",
       "      <td>Just got sent this photo from Ruby #Alaska as ...</td>\n",
       "      <td>1</td>\n",
       "    </tr>\n",
       "    <tr>\n",
       "      <th>8</th>\n",
       "      <td>NaN</td>\n",
       "      <td>NaN</td>\n",
       "      <td>#RockyFire Update =&gt; California Hwy. 20 closed...</td>\n",
       "      <td>1</td>\n",
       "    </tr>\n",
       "    <tr>\n",
       "      <th>10</th>\n",
       "      <td>NaN</td>\n",
       "      <td>NaN</td>\n",
       "      <td>#flood #disaster Heavy rain causes flash flood...</td>\n",
       "      <td>1</td>\n",
       "    </tr>\n",
       "    <tr>\n",
       "      <th>13</th>\n",
       "      <td>NaN</td>\n",
       "      <td>NaN</td>\n",
       "      <td>I'm on top of the hill and I can see a fire in...</td>\n",
       "      <td>1</td>\n",
       "    </tr>\n",
       "    <tr>\n",
       "      <th>14</th>\n",
       "      <td>NaN</td>\n",
       "      <td>NaN</td>\n",
       "      <td>There's an emergency evacuation happening now ...</td>\n",
       "      <td>1</td>\n",
       "    </tr>\n",
       "    <tr>\n",
       "      <th>15</th>\n",
       "      <td>NaN</td>\n",
       "      <td>NaN</td>\n",
       "      <td>I'm afraid that the tornado is coming to our a...</td>\n",
       "      <td>1</td>\n",
       "    </tr>\n",
       "  </tbody>\n",
       "</table>\n",
       "</div>"
      ],
      "text/plain": [
       "   keyword location                                               text  target\n",
       "id                                                                            \n",
       "1      NaN      NaN  Our Deeds are the Reason of this #earthquake M...       1\n",
       "4      NaN      NaN             Forest fire near La Ronge Sask. Canada       1\n",
       "5      NaN      NaN  All residents asked to 'shelter in place' are ...       1\n",
       "6      NaN      NaN  13,000 people receive #wildfires evacuation or...       1\n",
       "7      NaN      NaN  Just got sent this photo from Ruby #Alaska as ...       1\n",
       "8      NaN      NaN  #RockyFire Update => California Hwy. 20 closed...       1\n",
       "10     NaN      NaN  #flood #disaster Heavy rain causes flash flood...       1\n",
       "13     NaN      NaN  I'm on top of the hill and I can see a fire in...       1\n",
       "14     NaN      NaN  There's an emergency evacuation happening now ...       1\n",
       "15     NaN      NaN  I'm afraid that the tornado is coming to our a...       1"
      ]
     },
     "execution_count": 11,
     "metadata": {},
     "output_type": "execute_result"
    }
   ],
   "source": [
    "df_train[df_train['target']==1].head(10)"
   ]
  },
  {
   "cell_type": "markdown",
   "id": "8a66be10",
   "metadata": {
    "papermill": {
     "duration": 0.038336,
     "end_time": "2022-04-03T22:37:51.840599",
     "exception": false,
     "start_time": "2022-04-03T22:37:51.802263",
     "status": "completed"
    },
    "tags": []
   },
   "source": [
    "# Lets try LSTM model to make predictions"
   ]
  },
  {
   "cell_type": "markdown",
   "id": "d58cc4c2",
   "metadata": {
    "papermill": {
     "duration": 0.038086,
     "end_time": "2022-04-03T22:37:51.917426",
     "exception": false,
     "start_time": "2022-04-03T22:37:51.879340",
     "status": "completed"
    },
    "tags": []
   },
   "source": [
    "For a person reading the tweets, its quite easy to understand which is a disaster and which one is not."
   ]
  },
  {
   "cell_type": "code",
   "execution_count": 12,
   "id": "056cdab8",
   "metadata": {
    "execution": {
     "iopub.execute_input": "2022-04-03T22:37:51.999877Z",
     "iopub.status.busy": "2022-04-03T22:37:51.999091Z",
     "iopub.status.idle": "2022-04-03T22:37:58.894509Z",
     "shell.execute_reply": "2022-04-03T22:37:58.893767Z",
     "shell.execute_reply.started": "2022-04-03T22:04:48.001937Z"
    },
    "papermill": {
     "duration": 6.938614,
     "end_time": "2022-04-03T22:37:58.894671",
     "exception": false,
     "start_time": "2022-04-03T22:37:51.956057",
     "status": "completed"
    },
    "tags": []
   },
   "outputs": [],
   "source": [
    "import tensorflow as tf\n",
    "from tensorflow import keras\n",
    "from tensorflow.keras.preprocessing.text import Tokenizer\n",
    "from tensorflow.keras.preprocessing.sequence import pad_sequences"
   ]
  },
  {
   "cell_type": "markdown",
   "id": "b747e43a",
   "metadata": {
    "papermill": {
     "duration": 0.037444,
     "end_time": "2022-04-03T22:37:58.970675",
     "exception": false,
     "start_time": "2022-04-03T22:37:58.933231",
     "status": "completed"
    },
    "tags": []
   },
   "source": [
    "We train our model on only the text column."
   ]
  },
  {
   "cell_type": "code",
   "execution_count": 13,
   "id": "492252ca",
   "metadata": {
    "execution": {
     "iopub.execute_input": "2022-04-03T22:37:59.051413Z",
     "iopub.status.busy": "2022-04-03T22:37:59.050672Z",
     "iopub.status.idle": "2022-04-03T22:37:59.055138Z",
     "shell.execute_reply": "2022-04-03T22:37:59.055706Z",
     "shell.execute_reply.started": "2022-04-03T22:10:37.415252Z"
    },
    "papermill": {
     "duration": 0.046844,
     "end_time": "2022-04-03T22:37:59.055881",
     "exception": false,
     "start_time": "2022-04-03T22:37:59.009037",
     "status": "completed"
    },
    "tags": []
   },
   "outputs": [],
   "source": [
    "training_sentences = X_train_full['text']\n",
    "validation_sentences = X_valid_full['text']\n",
    "training_labels = y_train\n",
    "validation_labels = y_valid"
   ]
  },
  {
   "cell_type": "code",
   "execution_count": 14,
   "id": "e6db308f",
   "metadata": {
    "execution": {
     "iopub.execute_input": "2022-04-03T22:37:59.135552Z",
     "iopub.status.busy": "2022-04-03T22:37:59.134914Z",
     "iopub.status.idle": "2022-04-03T22:37:59.139301Z",
     "shell.execute_reply": "2022-04-03T22:37:59.139839Z",
     "shell.execute_reply.started": "2022-04-03T22:13:40.765890Z"
    },
    "papermill": {
     "duration": 0.045935,
     "end_time": "2022-04-03T22:37:59.140023",
     "exception": false,
     "start_time": "2022-04-03T22:37:59.094088",
     "status": "completed"
    },
    "tags": []
   },
   "outputs": [],
   "source": [
    "training_labels_final = np.array(training_labels)\n",
    "validation_labels_final = np.array(validation_labels)"
   ]
  },
  {
   "cell_type": "code",
   "execution_count": 15,
   "id": "e6f6bdf0",
   "metadata": {
    "execution": {
     "iopub.execute_input": "2022-04-03T22:37:59.229018Z",
     "iopub.status.busy": "2022-04-03T22:37:59.222937Z",
     "iopub.status.idle": "2022-04-03T22:37:59.474172Z",
     "shell.execute_reply": "2022-04-03T22:37:59.473581Z",
     "shell.execute_reply.started": "2022-04-03T22:12:11.863452Z"
    },
    "papermill": {
     "duration": 0.293606,
     "end_time": "2022-04-03T22:37:59.474370",
     "exception": false,
     "start_time": "2022-04-03T22:37:59.180764",
     "status": "completed"
    },
    "tags": []
   },
   "outputs": [],
   "source": [
    "tokenizer = Tokenizer(num_words=100000, oov_token='<OOV>')\n",
    "tokenizer.fit_on_texts(training_sentences)\n",
    "\n",
    "tokenizer = Tokenizer(num_words=100000, oov_token='<OOV>')\n",
    "tokenizer.fit_on_texts(validation_sentences)"
   ]
  },
  {
   "cell_type": "code",
   "execution_count": 16,
   "id": "cc603c67",
   "metadata": {
    "execution": {
     "iopub.execute_input": "2022-04-03T22:37:59.573253Z",
     "iopub.status.busy": "2022-04-03T22:37:59.572467Z",
     "iopub.status.idle": "2022-04-03T22:37:59.763969Z",
     "shell.execute_reply": "2022-04-03T22:37:59.764554Z",
     "shell.execute_reply.started": "2022-04-03T22:12:21.890797Z"
    },
    "papermill": {
     "duration": 0.251777,
     "end_time": "2022-04-03T22:37:59.764793",
     "exception": false,
     "start_time": "2022-04-03T22:37:59.513016",
     "status": "completed"
    },
    "tags": []
   },
   "outputs": [],
   "source": [
    "training_sequences = tokenizer.texts_to_sequences(training_sentences)\n",
    "pad_training = pad_sequences(training_sequences, maxlen=25, padding='post', truncating='post')\n",
    "\n",
    "validation_sequences = tokenizer.texts_to_sequences(validation_sentences)\n",
    "pad_validation = pad_sequences(validation_sequences, maxlen=25, padding='post', truncating='post')"
   ]
  },
  {
   "cell_type": "code",
   "execution_count": 17,
   "id": "59dde88a",
   "metadata": {
    "execution": {
     "iopub.execute_input": "2022-04-03T22:37:59.847729Z",
     "iopub.status.busy": "2022-04-03T22:37:59.846887Z",
     "iopub.status.idle": "2022-04-03T22:38:01.035656Z",
     "shell.execute_reply": "2022-04-03T22:38:01.034781Z",
     "shell.execute_reply.started": "2022-04-03T22:12:30.298728Z"
    },
    "papermill": {
     "duration": 1.232037,
     "end_time": "2022-04-03T22:38:01.035826",
     "exception": false,
     "start_time": "2022-04-03T22:37:59.803789",
     "status": "completed"
    },
    "tags": []
   },
   "outputs": [
    {
     "name": "stderr",
     "output_type": "stream",
     "text": [
      "2022-04-03 22:37:59.896192: I tensorflow/core/common_runtime/process_util.cc:146] Creating new thread pool with default inter op setting: 2. Tune using inter_op_parallelism_threads for best performance.\n"
     ]
    }
   ],
   "source": [
    "model = tf.keras.Sequential([\n",
    "    tf.keras.layers.Embedding(100000, 16, input_length=20),\n",
    "    tf.keras.layers.Bidirectional(tf.keras.layers.LSTM(64,return_sequences=True)),\n",
    "    tf.keras.layers.Bidirectional(tf.keras.layers.LSTM(32)),\n",
    "    tf.keras.layers.Dense(16, activation='relu'),\n",
    "    tf.keras.layers.Dense(1, activation='sigmoid')\n",
    "])"
   ]
  },
  {
   "cell_type": "code",
   "execution_count": 18,
   "id": "ea958b86",
   "metadata": {
    "execution": {
     "iopub.execute_input": "2022-04-03T22:38:01.118858Z",
     "iopub.status.busy": "2022-04-03T22:38:01.117873Z",
     "iopub.status.idle": "2022-04-03T22:38:01.132463Z",
     "shell.execute_reply": "2022-04-03T22:38:01.133043Z",
     "shell.execute_reply.started": "2022-04-03T22:12:45.612727Z"
    },
    "papermill": {
     "duration": 0.05836,
     "end_time": "2022-04-03T22:38:01.133218",
     "exception": false,
     "start_time": "2022-04-03T22:38:01.074858",
     "status": "completed"
    },
    "tags": []
   },
   "outputs": [],
   "source": [
    "model.compile(loss='binary_crossentropy', optimizer='adam', metrics=['accuracy'])"
   ]
  },
  {
   "cell_type": "code",
   "execution_count": 19,
   "id": "39fff57b",
   "metadata": {
    "execution": {
     "iopub.execute_input": "2022-04-03T22:38:01.220243Z",
     "iopub.status.busy": "2022-04-03T22:38:01.219558Z",
     "iopub.status.idle": "2022-04-03T22:42:17.127177Z",
     "shell.execute_reply": "2022-04-03T22:42:17.126125Z",
     "shell.execute_reply.started": "2022-04-03T22:13:46.902316Z"
    },
    "papermill": {
     "duration": 255.953894,
     "end_time": "2022-04-03T22:42:17.127388",
     "exception": false,
     "start_time": "2022-04-03T22:38:01.173494",
     "status": "completed"
    },
    "tags": []
   },
   "outputs": [
    {
     "name": "stderr",
     "output_type": "stream",
     "text": [
      "2022-04-03 22:38:01.276130: I tensorflow/compiler/mlir/mlir_graph_optimization_pass.cc:185] None of the MLIR Optimization Passes are enabled (registered 2)\n"
     ]
    },
    {
     "name": "stdout",
     "output_type": "stream",
     "text": [
      "Epoch 1/15\n",
      "191/191 [==============================] - 26s 94ms/step - loss: 0.5484 - accuracy: 0.7144 - val_loss: 0.4626 - val_accuracy: 0.8056\n",
      "Epoch 2/15\n",
      "191/191 [==============================] - 17s 86ms/step - loss: 0.3796 - accuracy: 0.8394 - val_loss: 0.4416 - val_accuracy: 0.8024\n",
      "Epoch 3/15\n",
      "191/191 [==============================] - 16s 82ms/step - loss: 0.3128 - accuracy: 0.8755 - val_loss: 0.4904 - val_accuracy: 0.7866\n",
      "Epoch 4/15\n",
      "191/191 [==============================] - 17s 87ms/step - loss: 0.2711 - accuracy: 0.8954 - val_loss: 0.5630 - val_accuracy: 0.7899\n",
      "Epoch 5/15\n",
      "191/191 [==============================] - 16s 82ms/step - loss: 0.2371 - accuracy: 0.9103 - val_loss: 0.6115 - val_accuracy: 0.7840\n",
      "Epoch 6/15\n",
      "191/191 [==============================] - 16s 85ms/step - loss: 0.2010 - accuracy: 0.9287 - val_loss: 0.6522 - val_accuracy: 0.7919\n",
      "Epoch 7/15\n",
      "191/191 [==============================] - 17s 88ms/step - loss: 0.1694 - accuracy: 0.9394 - val_loss: 0.7417 - val_accuracy: 0.7807\n",
      "Epoch 8/15\n",
      "191/191 [==============================] - 17s 87ms/step - loss: 0.1421 - accuracy: 0.9486 - val_loss: 0.7953 - val_accuracy: 0.7866\n",
      "Epoch 9/15\n",
      "191/191 [==============================] - 16s 85ms/step - loss: 0.1220 - accuracy: 0.9529 - val_loss: 0.7185 - val_accuracy: 0.7899\n",
      "Epoch 10/15\n",
      "191/191 [==============================] - 17s 88ms/step - loss: 0.1162 - accuracy: 0.9527 - val_loss: 0.8948 - val_accuracy: 0.7689\n",
      "Epoch 11/15\n",
      "191/191 [==============================] - 16s 84ms/step - loss: 0.0984 - accuracy: 0.9578 - val_loss: 1.0677 - val_accuracy: 0.7623\n",
      "Epoch 12/15\n",
      "191/191 [==============================] - 17s 87ms/step - loss: 0.0887 - accuracy: 0.9608 - val_loss: 1.0842 - val_accuracy: 0.7643\n",
      "Epoch 13/15\n",
      "191/191 [==============================] - 16s 85ms/step - loss: 0.0839 - accuracy: 0.9612 - val_loss: 1.3291 - val_accuracy: 0.7597\n",
      "Epoch 14/15\n",
      "191/191 [==============================] - 16s 83ms/step - loss: 0.0801 - accuracy: 0.9634 - val_loss: 1.1600 - val_accuracy: 0.7663\n",
      "Epoch 15/15\n",
      "191/191 [==============================] - 17s 91ms/step - loss: 0.0735 - accuracy: 0.9637 - val_loss: 1.4012 - val_accuracy: 0.7571\n"
     ]
    }
   ],
   "source": [
    "history = model.fit(pad_training, training_labels_final, epochs=15, validation_data=(pad_validation, validation_labels_final))"
   ]
  },
  {
   "cell_type": "code",
   "execution_count": 20,
   "id": "f36d2c9f",
   "metadata": {
    "execution": {
     "iopub.execute_input": "2022-04-03T22:42:19.411848Z",
     "iopub.status.busy": "2022-04-03T22:42:19.410810Z",
     "iopub.status.idle": "2022-04-03T22:42:19.416374Z",
     "shell.execute_reply": "2022-04-03T22:42:19.416939Z",
     "shell.execute_reply.started": "2022-04-03T22:23:15.195509Z"
    },
    "papermill": {
     "duration": 1.158198,
     "end_time": "2022-04-03T22:42:19.417147",
     "exception": false,
     "start_time": "2022-04-03T22:42:18.258949",
     "status": "completed"
    },
    "tags": []
   },
   "outputs": [],
   "source": [
    "import matplotlib.pyplot as plt\n",
    "def plot_graph(history, string):\n",
    "    plt.plot(history.history[string])\n",
    "    plt.plot(history.history['val_'+string])\n",
    "    plt.show()"
   ]
  },
  {
   "cell_type": "code",
   "execution_count": 21,
   "id": "0c1b7191",
   "metadata": {
    "execution": {
     "iopub.execute_input": "2022-04-03T22:42:21.815426Z",
     "iopub.status.busy": "2022-04-03T22:42:21.814647Z",
     "iopub.status.idle": "2022-04-03T22:42:22.232997Z",
     "shell.execute_reply": "2022-04-03T22:42:22.233770Z",
     "shell.execute_reply.started": "2022-04-03T22:23:15.852697Z"
    },
    "papermill": {
     "duration": 1.71908,
     "end_time": "2022-04-03T22:42:22.234000",
     "exception": false,
     "start_time": "2022-04-03T22:42:20.514920",
     "status": "completed"
    },
    "tags": []
   },
   "outputs": [
    {
     "data": {
      "image/png": "[encoded data removed]",
      "text/plain": [
       "<Figure size 432x288 with 1 Axes>"
      ]
     },
     "metadata": {
      "needs_background": "light"
     },
     "output_type": "display_data"
    },
    {
     "data": {
      "image/png": "[encoded data removed]",
      "text/plain": [
       "<Figure size 432x288 with 1 Axes>"
      ]
     },
     "metadata": {
      "needs_background": "light"
     },
     "output_type": "display_data"
    }
   ],
   "source": [
    "plot_graph(history, 'accuracy')\n",
    "plot_graph(history, 'loss')"
   ]
  },
  {
   "cell_type": "code",
   "execution_count": 22,
   "id": "50dd330f",
   "metadata": {
    "execution": {
     "iopub.execute_input": "2022-04-03T22:42:24.640493Z",
     "iopub.status.busy": "2022-04-03T22:42:24.639617Z",
     "iopub.status.idle": "2022-04-03T22:42:24.735549Z",
     "shell.execute_reply": "2022-04-03T22:42:24.736171Z",
     "shell.execute_reply.started": "2022-04-03T22:24:29.220528Z"
    },
    "papermill": {
     "duration": 1.270014,
     "end_time": "2022-04-03T22:42:24.736408",
     "exception": false,
     "start_time": "2022-04-03T22:42:23.466394",
     "status": "completed"
    },
    "tags": []
   },
   "outputs": [],
   "source": [
    "test_sequences = tokenizer.texts_to_sequences(df_test.text)\n",
    "pad_test = pad_sequences(test_sequences,maxlen=25, padding='post', truncating='post')"
   ]
  },
  {
   "cell_type": "code",
   "execution_count": 23,
   "id": "c7b69e3f",
   "metadata": {
    "execution": {
     "iopub.execute_input": "2022-04-03T22:42:27.031166Z",
     "iopub.status.busy": "2022-04-03T22:42:27.030386Z",
     "iopub.status.idle": "2022-04-03T22:42:31.152562Z",
     "shell.execute_reply": "2022-04-03T22:42:31.153125Z",
     "shell.execute_reply.started": "2022-04-03T22:25:27.534435Z"
    },
    "papermill": {
     "duration": 5.276957,
     "end_time": "2022-04-03T22:42:31.153388",
     "exception": false,
     "start_time": "2022-04-03T22:42:25.876431",
     "status": "completed"
    },
    "tags": []
   },
   "outputs": [],
   "source": [
    "submission=pd.read_csv(\"/kaggle/input/nlp-getting-started/sample_submission.csv\", index_col='id')\n",
    "prediction = model.predict(pad_test)\n",
    "submission['target'] = (prediction>0.5).astype(int)"
   ]
  },
  {
   "cell_type": "code",
   "execution_count": 24,
   "id": "93431738",
   "metadata": {
    "execution": {
     "iopub.execute_input": "2022-04-03T22:42:33.497035Z",
     "iopub.status.busy": "2022-04-03T22:42:33.495882Z",
     "iopub.status.idle": "2022-04-03T22:42:33.505698Z",
     "shell.execute_reply": "2022-04-03T22:42:33.506484Z",
     "shell.execute_reply.started": "2022-04-03T22:36:24.403066Z"
    },
    "papermill": {
     "duration": 1.193716,
     "end_time": "2022-04-03T22:42:33.506702",
     "exception": false,
     "start_time": "2022-04-03T22:42:32.312986",
     "status": "completed"
    },
    "tags": []
   },
   "outputs": [
    {
     "data": {
      "text/html": [
       "<div>\n",
       "<style scoped>\n",
       "    .dataframe tbody tr th:only-of-type {\n",
       "        vertical-align: middle;\n",
       "    }\n",
       "\n",
       "    .dataframe tbody tr th {\n",
       "        vertical-align: top;\n",
       "    }\n",
       "\n",
       "    .dataframe thead th {\n",
       "        text-align: right;\n",
       "    }\n",
       "</style>\n",
       "<table border=\"1\" class=\"dataframe\">\n",
       "  <thead>\n",
       "    <tr style=\"text-align: right;\">\n",
       "      <th></th>\n",
       "      <th>target</th>\n",
       "    </tr>\n",
       "    <tr>\n",
       "      <th>id</th>\n",
       "      <th></th>\n",
       "    </tr>\n",
       "  </thead>\n",
       "  <tbody>\n",
       "    <tr>\n",
       "      <th>0</th>\n",
       "      <td>1</td>\n",
       "    </tr>\n",
       "    <tr>\n",
       "      <th>2</th>\n",
       "      <td>0</td>\n",
       "    </tr>\n",
       "    <tr>\n",
       "      <th>3</th>\n",
       "      <td>1</td>\n",
       "    </tr>\n",
       "    <tr>\n",
       "      <th>9</th>\n",
       "      <td>1</td>\n",
       "    </tr>\n",
       "    <tr>\n",
       "      <th>11</th>\n",
       "      <td>1</td>\n",
       "    </tr>\n",
       "    <tr>\n",
       "      <th>...</th>\n",
       "      <td>...</td>\n",
       "    </tr>\n",
       "    <tr>\n",
       "      <th>10861</th>\n",
       "      <td>0</td>\n",
       "    </tr>\n",
       "    <tr>\n",
       "      <th>10865</th>\n",
       "      <td>1</td>\n",
       "    </tr>\n",
       "    <tr>\n",
       "      <th>10868</th>\n",
       "      <td>1</td>\n",
       "    </tr>\n",
       "    <tr>\n",
       "      <th>10874</th>\n",
       "      <td>1</td>\n",
       "    </tr>\n",
       "    <tr>\n",
       "      <th>10875</th>\n",
       "      <td>1</td>\n",
       "    </tr>\n",
       "  </tbody>\n",
       "</table>\n",
       "<p>3263 rows × 1 columns</p>\n",
       "</div>"
      ],
      "text/plain": [
       "       target\n",
       "id           \n",
       "0           1\n",
       "2           0\n",
       "3           1\n",
       "9           1\n",
       "11          1\n",
       "...       ...\n",
       "10861       0\n",
       "10865       1\n",
       "10868       1\n",
       "10874       1\n",
       "10875       1\n",
       "\n",
       "[3263 rows x 1 columns]"
      ]
     },
     "execution_count": 24,
     "metadata": {},
     "output_type": "execute_result"
    }
   ],
   "source": [
    "submission"
   ]
  },
  {
   "cell_type": "code",
   "execution_count": 25,
   "id": "e2446aed",
   "metadata": {
    "execution": {
     "iopub.execute_input": "2022-04-03T22:42:35.949645Z",
     "iopub.status.busy": "2022-04-03T22:42:35.948522Z",
     "iopub.status.idle": "2022-04-03T22:42:35.961995Z",
     "shell.execute_reply": "2022-04-03T22:42:35.961266Z",
     "shell.execute_reply.started": "2022-04-03T22:36:51.213805Z"
    },
    "papermill": {
     "duration": 1.231423,
     "end_time": "2022-04-03T22:42:35.962196",
     "exception": false,
     "start_time": "2022-04-03T22:42:34.730773",
     "status": "completed"
    },
    "tags": []
   },
   "outputs": [],
   "source": [
    "submission.to_csv('submission1_lstm.csv', index=id, header=True)"
   ]
  },
  {
   "cell_type": "code",
   "execution_count": null,
   "id": "da7c4af6",
   "metadata": {
    "papermill": {
     "duration": 1.204955,
     "end_time": "2022-04-03T22:42:38.361064",
     "exception": false,
     "start_time": "2022-04-03T22:42:37.156109",
     "status": "completed"
    },
    "tags": []
   },
   "outputs": [],
   "source": []
  }
 ],
 "metadata": {
  "kernelspec": {
   "display_name": "Python 3",
   "language": "python",
   "name": "python3"
  },
  "language_info": {
   "codemirror_mode": {
    "name": "ipython",
    "version": 3
   },
   "file_extension": ".py",
   "mimetype": "text/x-python",
   "name": "python",
   "nbconvert_exporter": "python",
   "pygments_lexer": "ipython3",
   "version": "3.7.12"
  },
  "papermill": {
   "default_parameters": {},
   "duration": 305.282533,
   "end_time": "2022-04-03T22:42:42.652247",
   "environment_variables": {},
   "exception": null,
   "input_path": "__notebook__.ipynb",
   "output_path": "__notebook__.ipynb",
   "parameters": {},
   "start_time": "2022-04-03T22:37:37.369714",
   "version": "2.3.3"
  }
 },
 "nbformat": 4,
 "nbformat_minor": 5
}
