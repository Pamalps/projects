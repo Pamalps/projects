{
 "cells": [
  {
   "cell_type": "code",
   "execution_count": 1,
   "id": "59f61295",
   "metadata": {
    "_cell_guid": "b1076dfc-b9ad-4769-8c92-a6c4dae69d19",
    "_uuid": "8f2839f25d086af736a60e9eeb907d3b93b6e0e5",
    "execution": {
     "iopub.execute_input": "2022-04-03T22:26:50.857166Z",
     "iopub.status.busy": "2022-04-03T22:26:50.856440Z",
     "iopub.status.idle": "2022-04-03T22:26:50.865912Z",
     "shell.execute_reply": "2022-04-03T22:26:50.866701Z",
     "shell.execute_reply.started": "2022-04-03T21:22:14.774494Z"
    },
    "papermill": {
     "duration": 0.056302,
     "end_time": "2022-04-03T22:26:50.867109",
     "exception": false,
     "start_time": "2022-04-03T22:26:50.810807",
     "status": "completed"
    },
    "tags": []
   },
   "outputs": [
    {
     "name": "stdout",
     "output_type": "stream",
     "text": [
      "/kaggle/input/nlp-getting-started/sample_submission.csv\n",
      "/kaggle/input/nlp-getting-started/train.csv\n",
      "/kaggle/input/nlp-getting-started/test.csv\n"
     ]
    }
   ],
   "source": [
    "# This Python 3 environment comes with many helpful analytics libraries installed\n",
    "# It is defined by the kaggle/python Docker image: https://github.com/kaggle/docker-python\n",
    "# For example, here's several helpful packages to load\n",
    "\n",
    "import numpy as np # linear algebra\n",
    "import pandas as pd # data processing, CSV file I/O (e.g. pd.read_csv)\n",
    "\n",
    "# Input data files are available in the read-only \"../input/\" directory\n",
    "# For example, running this (by clicking run or pressing Shift+Enter) will list all files under the input directory\n",
    "\n",
    "import os\n",
    "for dirname, _, filenames in os.walk('/kaggle/input'):\n",
    "    for filename in filenames:\n",
    "        print(os.path.join(dirname, filename))\n",
    "\n",
    "# You can write up to 20GB to the current directory (/kaggle/working/) that gets preserved as output when you create a version using \"Save & Run All\" \n",
    "# You can also write temporary files to /kaggle/temp/, but they won't be saved outside of the current session"
   ]
  },
  {
   "cell_type": "code",
   "execution_count": 2,
   "id": "8985ecfa",
   "metadata": {
    "execution": {
     "iopub.execute_input": "2022-04-03T22:26:50.943219Z",
     "iopub.status.busy": "2022-04-03T22:26:50.942471Z",
     "iopub.status.idle": "2022-04-03T22:26:52.369585Z",
     "shell.execute_reply": "2022-04-03T22:26:52.368537Z",
     "shell.execute_reply.started": "2022-04-03T21:22:49.273292Z"
    },
    "papermill": {
     "duration": 1.466404,
     "end_time": "2022-04-03T22:26:52.369748",
     "exception": false,
     "start_time": "2022-04-03T22:26:50.903344",
     "status": "completed"
    },
    "tags": []
   },
   "outputs": [],
   "source": [
    "#Import the libraries\n",
    "from sklearn.model_selection import train_test_split    # Splits arrays or matrices into random train and test subsets\n",
    "from sklearn.model_selection import KFold               # Cross-validator\n",
    "from sklearn.model_selection import cross_validate      # Evaluate metrics by cross-validation\n",
    "from sklearn.model_selection import GridSearchCV        # Search over specified parameter values for an estimator\n",
    "from sklearn.compose import ColumnTransformer           # Applies transformers to columns of DataFrames\n",
    "from sklearn.pipeline import Pipeline                   # Helps building a chain of transforms and estimators\n",
    "from sklearn.impute import SimpleImputer                # Imputation transformer for completing missing values\n",
    "from sklearn.preprocessing import OneHotEncoder         # Encode categorical features"
   ]
  },
  {
   "cell_type": "markdown",
   "id": "b6a7e813",
   "metadata": {
    "papermill": {
     "duration": 0.035394,
     "end_time": "2022-04-03T22:26:52.440155",
     "exception": false,
     "start_time": "2022-04-03T22:26:52.404761",
     "status": "completed"
    },
    "tags": []
   },
   "source": [
    "# Import the csv files"
   ]
  },
  {
   "cell_type": "code",
   "execution_count": 3,
   "id": "59b051db",
   "metadata": {
    "execution": {
     "iopub.execute_input": "2022-04-03T22:26:52.513704Z",
     "iopub.status.busy": "2022-04-03T22:26:52.513008Z",
     "iopub.status.idle": "2022-04-03T22:26:52.612129Z",
     "shell.execute_reply": "2022-04-03T22:26:52.612815Z",
     "shell.execute_reply.started": "2022-04-03T21:23:02.142217Z"
    },
    "papermill": {
     "duration": 0.137223,
     "end_time": "2022-04-03T22:26:52.613002",
     "exception": false,
     "start_time": "2022-04-03T22:26:52.475779",
     "status": "completed"
    },
    "tags": []
   },
   "outputs": [],
   "source": [
    "df_train=pd.read_csv(\"/kaggle/input/nlp-getting-started/train.csv\", index_col='id')\n",
    "df_test=pd.read_csv(\"/kaggle/input/nlp-getting-started/test.csv\", index_col='id')"
   ]
  },
  {
   "cell_type": "markdown",
   "id": "72b342d6",
   "metadata": {
    "papermill": {
     "duration": 0.034364,
     "end_time": "2022-04-03T22:26:52.682794",
     "exception": false,
     "start_time": "2022-04-03T22:26:52.648430",
     "status": "completed"
    },
    "tags": []
   },
   "source": [
    "The dataset provided has been split into train and test datasets. \n",
    "The train dataset has 7613 rows and 4 columns. The target column is part of the train dataset.\n",
    "The test dataset has 3263 rows and 3 columns. the target column is not part of the test dataset, and needs to be predicted and submitted as part of the competition."
   ]
  },
  {
   "cell_type": "code",
   "execution_count": 4,
   "id": "2b78d275",
   "metadata": {
    "execution": {
     "iopub.execute_input": "2022-04-03T22:26:52.758698Z",
     "iopub.status.busy": "2022-04-03T22:26:52.758031Z",
     "iopub.status.idle": "2022-04-03T22:26:52.765004Z",
     "shell.execute_reply": "2022-04-03T22:26:52.765860Z",
     "shell.execute_reply.started": "2022-04-03T21:24:09.162892Z"
    },
    "papermill": {
     "duration": 0.046112,
     "end_time": "2022-04-03T22:26:52.766122",
     "exception": false,
     "start_time": "2022-04-03T22:26:52.720010",
     "status": "completed"
    },
    "tags": []
   },
   "outputs": [
    {
     "name": "stdout",
     "output_type": "stream",
     "text": [
      "size of train dataset (7613, 4)\n",
      "size of test dataset (3263, 3)\n"
     ]
    }
   ],
   "source": [
    "print(\"size of train dataset\",df_train.shape)\n",
    "print(\"size of test dataset\",df_test.shape)"
   ]
  },
  {
   "cell_type": "markdown",
   "id": "1336aafc",
   "metadata": {
    "papermill": {
     "duration": 0.034192,
     "end_time": "2022-04-03T22:26:52.837085",
     "exception": false,
     "start_time": "2022-04-03T22:26:52.802893",
     "status": "completed"
    },
    "tags": []
   },
   "source": [
    "# Test train split"
   ]
  },
  {
   "cell_type": "markdown",
   "id": "1483b60e",
   "metadata": {
    "papermill": {
     "duration": 0.03436,
     "end_time": "2022-04-03T22:26:52.905835",
     "exception": false,
     "start_time": "2022-04-03T22:26:52.871475",
     "status": "completed"
    },
    "tags": []
   },
   "source": [
    "Our model is to be developed on the provided train dataset. So we further split train dataset into train and validation datasets to create and validate different models."
   ]
  },
  {
   "cell_type": "markdown",
   "id": "2b364128",
   "metadata": {
    "papermill": {
     "duration": 0.035087,
     "end_time": "2022-04-03T22:26:52.977430",
     "exception": false,
     "start_time": "2022-04-03T22:26:52.942343",
     "status": "completed"
    },
    "tags": []
   },
   "source": [
    "### Split the train dataset into predictor and response variables"
   ]
  },
  {
   "cell_type": "code",
   "execution_count": 5,
   "id": "ac4ef6ce",
   "metadata": {
    "execution": {
     "iopub.execute_input": "2022-04-03T22:26:53.056012Z",
     "iopub.status.busy": "2022-04-03T22:26:53.054928Z",
     "iopub.status.idle": "2022-04-03T22:26:53.058500Z",
     "shell.execute_reply": "2022-04-03T22:26:53.059079Z",
     "shell.execute_reply.started": "2022-04-03T21:28:41.136669Z"
    },
    "papermill": {
     "duration": 0.045026,
     "end_time": "2022-04-03T22:26:53.059258",
     "exception": false,
     "start_time": "2022-04-03T22:26:53.014232",
     "status": "completed"
    },
    "tags": []
   },
   "outputs": [],
   "source": [
    "X = df_train.iloc[:,:-1] #the predictor columns are all columns except the target column\n",
    "y = df_train.iloc[:,-1:] #the target column is the last column "
   ]
  },
  {
   "cell_type": "code",
   "execution_count": 6,
   "id": "aff74f47",
   "metadata": {
    "execution": {
     "iopub.execute_input": "2022-04-03T22:26:53.135865Z",
     "iopub.status.busy": "2022-04-03T22:26:53.131805Z",
     "iopub.status.idle": "2022-04-03T22:26:53.141445Z",
     "shell.execute_reply": "2022-04-03T22:26:53.142173Z",
     "shell.execute_reply.started": "2022-04-03T21:28:42.688161Z"
    },
    "papermill": {
     "duration": 0.048277,
     "end_time": "2022-04-03T22:26:53.142364",
     "exception": false,
     "start_time": "2022-04-03T22:26:53.094087",
     "status": "completed"
    },
    "tags": []
   },
   "outputs": [],
   "source": [
    "X_train_full, X_valid_full, y_train, y_valid = train_test_split(X, y, \n",
    "                                                                train_size=0.8, \n",
    "                                                                test_size=0.2, \n",
    "                                                                random_state=0)"
   ]
  },
  {
   "cell_type": "code",
   "execution_count": 7,
   "id": "6bf61b9f",
   "metadata": {
    "execution": {
     "iopub.execute_input": "2022-04-03T22:26:53.218241Z",
     "iopub.status.busy": "2022-04-03T22:26:53.217294Z",
     "iopub.status.idle": "2022-04-03T22:26:53.220697Z",
     "shell.execute_reply": "2022-04-03T22:26:53.221243Z",
     "shell.execute_reply.started": "2022-04-03T21:31:06.928564Z"
    },
    "papermill": {
     "duration": 0.044349,
     "end_time": "2022-04-03T22:26:53.221431",
     "exception": false,
     "start_time": "2022-04-03T22:26:53.177082",
     "status": "completed"
    },
    "tags": []
   },
   "outputs": [
    {
     "name": "stdout",
     "output_type": "stream",
     "text": [
      "size of X_train: predictors (6090, 3)\n",
      "size of X_valid: predictors (1523, 3)\n",
      "size of y_train: response (6090, 1)\n",
      "size of y_valid: response (1523, 1)\n"
     ]
    }
   ],
   "source": [
    "print(\"size of X_train: predictors\",X_train_full.shape)\n",
    "print(\"size of X_valid: predictors\",X_valid_full.shape)\n",
    "print(\"size of y_train: response\",y_train.shape)\n",
    "print(\"size of y_valid: response\",y_valid.shape)"
   ]
  },
  {
   "cell_type": "markdown",
   "id": "eff5f73b",
   "metadata": {
    "papermill": {
     "duration": 0.035048,
     "end_time": "2022-04-03T22:26:53.291663",
     "exception": false,
     "start_time": "2022-04-03T22:26:53.256615",
     "status": "completed"
    },
    "tags": []
   },
   "source": [
    "# EDA"
   ]
  },
  {
   "cell_type": "markdown",
   "id": "a85c938b",
   "metadata": {
    "execution": {
     "iopub.execute_input": "2022-04-03T21:32:27.741747Z",
     "iopub.status.busy": "2022-04-03T21:32:27.741118Z",
     "iopub.status.idle": "2022-04-03T21:32:27.748495Z",
     "shell.execute_reply": "2022-04-03T21:32:27.747060Z",
     "shell.execute_reply.started": "2022-04-03T21:32:27.741685Z"
    },
    "papermill": {
     "duration": 0.034872,
     "end_time": "2022-04-03T22:26:53.361881",
     "exception": false,
     "start_time": "2022-04-03T22:26:53.327009",
     "status": "completed"
    },
    "tags": []
   },
   "source": [
    "Exploratory analysis on our new training dataset"
   ]
  },
  {
   "cell_type": "code",
   "execution_count": 8,
   "id": "98925677",
   "metadata": {
    "execution": {
     "iopub.execute_input": "2022-04-03T22:26:53.435660Z",
     "iopub.status.busy": "2022-04-03T22:26:53.434953Z",
     "iopub.status.idle": "2022-04-03T22:26:53.454470Z",
     "shell.execute_reply": "2022-04-03T22:26:53.454984Z",
     "shell.execute_reply.started": "2022-04-03T21:32:41.652366Z"
    },
    "papermill": {
     "duration": 0.058295,
     "end_time": "2022-04-03T22:26:53.455190",
     "exception": false,
     "start_time": "2022-04-03T22:26:53.396895",
     "status": "completed"
    },
    "tags": []
   },
   "outputs": [
    {
     "name": "stdout",
     "output_type": "stream",
     "text": [
      "<class 'pandas.core.frame.DataFrame'>\n",
      "Int64Index: 6090 entries, 1999 to 3924\n",
      "Data columns (total 3 columns):\n",
      " #   Column    Non-Null Count  Dtype \n",
      "---  ------    --------------  ----- \n",
      " 0   keyword   6044 non-null   object\n",
      " 1   location  4075 non-null   object\n",
      " 2   text      6090 non-null   object\n",
      "dtypes: object(3)\n",
      "memory usage: 190.3+ KB\n"
     ]
    }
   ],
   "source": [
    "X_train_full.info()"
   ]
  },
  {
   "cell_type": "markdown",
   "id": "5ac37d1b",
   "metadata": {
    "papermill": {
     "duration": 0.034954,
     "end_time": "2022-04-03T22:26:53.525615",
     "exception": false,
     "start_time": "2022-04-03T22:26:53.490661",
     "status": "completed"
    },
    "tags": []
   },
   "source": []
  },
  {
   "cell_type": "markdown",
   "id": "5acaa98f",
   "metadata": {
    "papermill": {
     "duration": 0.035045,
     "end_time": "2022-04-03T22:26:53.596493",
     "exception": false,
     "start_time": "2022-04-03T22:26:53.561448",
     "status": "completed"
    },
    "tags": []
   },
   "source": [
    "We see that location and keywords have some nulls."
   ]
  },
  {
   "cell_type": "markdown",
   "id": "c54a098d",
   "metadata": {
    "papermill": {
     "duration": 0.035323,
     "end_time": "2022-04-03T22:26:53.667359",
     "exception": false,
     "start_time": "2022-04-03T22:26:53.632036",
     "status": "completed"
    },
    "tags": []
   },
   "source": [
    "## check the balance of the dataset"
   ]
  },
  {
   "cell_type": "code",
   "execution_count": 9,
   "id": "b2e1c831",
   "metadata": {
    "execution": {
     "iopub.execute_input": "2022-04-03T22:26:53.744119Z",
     "iopub.status.busy": "2022-04-03T22:26:53.743135Z",
     "iopub.status.idle": "2022-04-03T22:26:53.753089Z",
     "shell.execute_reply": "2022-04-03T22:26:53.753616Z",
     "shell.execute_reply.started": "2022-04-03T21:46:13.755111Z"
    },
    "papermill": {
     "duration": 0.049692,
     "end_time": "2022-04-03T22:26:53.753790",
     "exception": false,
     "start_time": "2022-04-03T22:26:53.704098",
     "status": "completed"
    },
    "tags": []
   },
   "outputs": [
    {
     "data": {
      "text/plain": [
       "target\n",
       "0    3456\n",
       "1    2634\n",
       "dtype: int64"
      ]
     },
     "execution_count": 9,
     "metadata": {},
     "output_type": "execute_result"
    }
   ],
   "source": [
    "y_train.groupby(['target']).size()"
   ]
  },
  {
   "cell_type": "markdown",
   "id": "958b003d",
   "metadata": {
    "papermill": {
     "duration": 0.037114,
     "end_time": "2022-04-03T22:26:53.826962",
     "exception": false,
     "start_time": "2022-04-03T22:26:53.789848",
     "status": "completed"
    },
    "tags": []
   },
   "source": [
    "So we see that its a well balanced dataset."
   ]
  },
  {
   "cell_type": "markdown",
   "id": "fba6bc9e",
   "metadata": {
    "papermill": {
     "duration": 0.03564,
     "end_time": "2022-04-03T22:26:53.899278",
     "exception": false,
     "start_time": "2022-04-03T22:26:53.863638",
     "status": "completed"
    },
    "tags": []
   },
   "source": [
    "## check examples of disaster and non disaster tweets"
   ]
  },
  {
   "cell_type": "code",
   "execution_count": 10,
   "id": "af2f0964",
   "metadata": {
    "execution": {
     "iopub.execute_input": "2022-04-03T22:26:53.980200Z",
     "iopub.status.busy": "2022-04-03T22:26:53.978761Z",
     "iopub.status.idle": "2022-04-03T22:26:53.996093Z",
     "shell.execute_reply": "2022-04-03T22:26:53.996794Z",
     "shell.execute_reply.started": "2022-04-03T21:52:03.326599Z"
    },
    "papermill": {
     "duration": 0.060989,
     "end_time": "2022-04-03T22:26:53.996980",
     "exception": false,
     "start_time": "2022-04-03T22:26:53.935991",
     "status": "completed"
    },
    "tags": []
   },
   "outputs": [
    {
     "data": {
      "text/html": [
       "<div>\n",
       "<style scoped>\n",
       "    .dataframe tbody tr th:only-of-type {\n",
       "        vertical-align: middle;\n",
       "    }\n",
       "\n",
       "    .dataframe tbody tr th {\n",
       "        vertical-align: top;\n",
       "    }\n",
       "\n",
       "    .dataframe thead th {\n",
       "        text-align: right;\n",
       "    }\n",
       "</style>\n",
       "<table border=\"1\" class=\"dataframe\">\n",
       "  <thead>\n",
       "    <tr style=\"text-align: right;\">\n",
       "      <th></th>\n",
       "      <th>keyword</th>\n",
       "      <th>location</th>\n",
       "      <th>text</th>\n",
       "      <th>target</th>\n",
       "    </tr>\n",
       "    <tr>\n",
       "      <th>id</th>\n",
       "      <th></th>\n",
       "      <th></th>\n",
       "      <th></th>\n",
       "      <th></th>\n",
       "    </tr>\n",
       "  </thead>\n",
       "  <tbody>\n",
       "    <tr>\n",
       "      <th>23</th>\n",
       "      <td>NaN</td>\n",
       "      <td>NaN</td>\n",
       "      <td>What's up man?</td>\n",
       "      <td>0</td>\n",
       "    </tr>\n",
       "    <tr>\n",
       "      <th>24</th>\n",
       "      <td>NaN</td>\n",
       "      <td>NaN</td>\n",
       "      <td>I love fruits</td>\n",
       "      <td>0</td>\n",
       "    </tr>\n",
       "    <tr>\n",
       "      <th>25</th>\n",
       "      <td>NaN</td>\n",
       "      <td>NaN</td>\n",
       "      <td>Summer is lovely</td>\n",
       "      <td>0</td>\n",
       "    </tr>\n",
       "    <tr>\n",
       "      <th>26</th>\n",
       "      <td>NaN</td>\n",
       "      <td>NaN</td>\n",
       "      <td>My car is so fast</td>\n",
       "      <td>0</td>\n",
       "    </tr>\n",
       "    <tr>\n",
       "      <th>28</th>\n",
       "      <td>NaN</td>\n",
       "      <td>NaN</td>\n",
       "      <td>What a goooooooaaaaaal!!!!!!</td>\n",
       "      <td>0</td>\n",
       "    </tr>\n",
       "    <tr>\n",
       "      <th>31</th>\n",
       "      <td>NaN</td>\n",
       "      <td>NaN</td>\n",
       "      <td>this is ridiculous....</td>\n",
       "      <td>0</td>\n",
       "    </tr>\n",
       "    <tr>\n",
       "      <th>32</th>\n",
       "      <td>NaN</td>\n",
       "      <td>NaN</td>\n",
       "      <td>London is cool ;)</td>\n",
       "      <td>0</td>\n",
       "    </tr>\n",
       "    <tr>\n",
       "      <th>33</th>\n",
       "      <td>NaN</td>\n",
       "      <td>NaN</td>\n",
       "      <td>Love skiing</td>\n",
       "      <td>0</td>\n",
       "    </tr>\n",
       "    <tr>\n",
       "      <th>34</th>\n",
       "      <td>NaN</td>\n",
       "      <td>NaN</td>\n",
       "      <td>What a wonderful day!</td>\n",
       "      <td>0</td>\n",
       "    </tr>\n",
       "    <tr>\n",
       "      <th>36</th>\n",
       "      <td>NaN</td>\n",
       "      <td>NaN</td>\n",
       "      <td>LOOOOOOL</td>\n",
       "      <td>0</td>\n",
       "    </tr>\n",
       "  </tbody>\n",
       "</table>\n",
       "</div>"
      ],
      "text/plain": [
       "   keyword location                          text  target\n",
       "id                                                       \n",
       "23     NaN      NaN                What's up man?       0\n",
       "24     NaN      NaN                 I love fruits       0\n",
       "25     NaN      NaN              Summer is lovely       0\n",
       "26     NaN      NaN             My car is so fast       0\n",
       "28     NaN      NaN  What a goooooooaaaaaal!!!!!!       0\n",
       "31     NaN      NaN        this is ridiculous....       0\n",
       "32     NaN      NaN             London is cool ;)       0\n",
       "33     NaN      NaN                   Love skiing       0\n",
       "34     NaN      NaN         What a wonderful day!       0\n",
       "36     NaN      NaN                      LOOOOOOL       0"
      ]
     },
     "execution_count": 10,
     "metadata": {},
     "output_type": "execute_result"
    }
   ],
   "source": [
    "df_train[df_train['target']==0].head(10)"
   ]
  },
  {
   "cell_type": "code",
   "execution_count": 11,
   "id": "72daf2ac",
   "metadata": {
    "execution": {
     "iopub.execute_input": "2022-04-03T22:26:54.079360Z",
     "iopub.status.busy": "2022-04-03T22:26:54.078352Z",
     "iopub.status.idle": "2022-04-03T22:26:54.091835Z",
     "shell.execute_reply": "2022-04-03T22:26:54.091156Z",
     "shell.execute_reply.started": "2022-04-03T21:52:23.788889Z"
    },
    "papermill": {
     "duration": 0.057278,
     "end_time": "2022-04-03T22:26:54.091991",
     "exception": false,
     "start_time": "2022-04-03T22:26:54.034713",
     "status": "completed"
    },
    "tags": []
   },
   "outputs": [
    {
     "data": {
      "text/html": [
       "<div>\n",
       "<style scoped>\n",
       "    .dataframe tbody tr th:only-of-type {\n",
       "        vertical-align: middle;\n",
       "    }\n",
       "\n",
       "    .dataframe tbody tr th {\n",
       "        vertical-align: top;\n",
       "    }\n",
       "\n",
       "    .dataframe thead th {\n",
       "        text-align: right;\n",
       "    }\n",
       "</style>\n",
       "<table border=\"1\" class=\"dataframe\">\n",
       "  <thead>\n",
       "    <tr style=\"text-align: right;\">\n",
       "      <th></th>\n",
       "      <th>keyword</th>\n",
       "      <th>location</th>\n",
       "      <th>text</th>\n",
       "      <th>target</th>\n",
       "    </tr>\n",
       "    <tr>\n",
       "      <th>id</th>\n",
       "      <th></th>\n",
       "      <th></th>\n",
       "      <th></th>\n",
       "      <th></th>\n",
       "    </tr>\n",
       "  </thead>\n",
       "  <tbody>\n",
       "    <tr>\n",
       "      <th>1</th>\n",
       "      <td>NaN</td>\n",
       "      <td>NaN</td>\n",
       "      <td>Our Deeds are the Reason of this #earthquake M...</td>\n",
       "      <td>1</td>\n",
       "    </tr>\n",
       "    <tr>\n",
       "      <th>4</th>\n",
       "      <td>NaN</td>\n",
       "      <td>NaN</td>\n",
       "      <td>Forest fire near La Ronge Sask. Canada</td>\n",
       "      <td>1</td>\n",
       "    </tr>\n",
       "    <tr>\n",
       "      <th>5</th>\n",
       "      <td>NaN</td>\n",
       "      <td>NaN</td>\n",
       "      <td>All residents asked to 'shelter in place' are ...</td>\n",
       "      <td>1</td>\n",
       "    </tr>\n",
       "    <tr>\n",
       "      <th>6</th>\n",
       "      <td>NaN</td>\n",
       "      <td>NaN</td>\n",
       "      <td>13,000 people receive #wildfires evacuation or...</td>\n",
       "      <td>1</td>\n",
       "    </tr>\n",
       "    <tr>\n",
       "      <th>7</th>\n",
       "      <td>NaN</td>\n",
       "      <td>NaN</td>\n",
       "      <td>Just got sent this photo from Ruby #Alaska as ...</td>\n",
       "      <td>1</td>\n",
       "    </tr>\n",
       "    <tr>\n",
       "      <th>8</th>\n",
       "      <td>NaN</td>\n",
       "      <td>NaN</td>\n",
       "      <td>#RockyFire Update =&gt; California Hwy. 20 closed...</td>\n",
       "      <td>1</td>\n",
       "    </tr>\n",
       "    <tr>\n",
       "      <th>10</th>\n",
       "      <td>NaN</td>\n",
       "      <td>NaN</td>\n",
       "      <td>#flood #disaster Heavy rain causes flash flood...</td>\n",
       "      <td>1</td>\n",
       "    </tr>\n",
       "    <tr>\n",
       "      <th>13</th>\n",
       "      <td>NaN</td>\n",
       "      <td>NaN</td>\n",
       "      <td>I'm on top of the hill and I can see a fire in...</td>\n",
       "      <td>1</td>\n",
       "    </tr>\n",
       "    <tr>\n",
       "      <th>14</th>\n",
       "      <td>NaN</td>\n",
       "      <td>NaN</td>\n",
       "      <td>There's an emergency evacuation happening now ...</td>\n",
       "      <td>1</td>\n",
       "    </tr>\n",
       "    <tr>\n",
       "      <th>15</th>\n",
       "      <td>NaN</td>\n",
       "      <td>NaN</td>\n",
       "      <td>I'm afraid that the tornado is coming to our a...</td>\n",
       "      <td>1</td>\n",
       "    </tr>\n",
       "  </tbody>\n",
       "</table>\n",
       "</div>"
      ],
      "text/plain": [
       "   keyword location                                               text  target\n",
       "id                                                                            \n",
       "1      NaN      NaN  Our Deeds are the Reason of this #earthquake M...       1\n",
       "4      NaN      NaN             Forest fire near La Ronge Sask. Canada       1\n",
       "5      NaN      NaN  All residents asked to 'shelter in place' are ...       1\n",
       "6      NaN      NaN  13,000 people receive #wildfires evacuation or...       1\n",
       "7      NaN      NaN  Just got sent this photo from Ruby #Alaska as ...       1\n",
       "8      NaN      NaN  #RockyFire Update => California Hwy. 20 closed...       1\n",
       "10     NaN      NaN  #flood #disaster Heavy rain causes flash flood...       1\n",
       "13     NaN      NaN  I'm on top of the hill and I can see a fire in...       1\n",
       "14     NaN      NaN  There's an emergency evacuation happening now ...       1\n",
       "15     NaN      NaN  I'm afraid that the tornado is coming to our a...       1"
      ]
     },
     "execution_count": 11,
     "metadata": {},
     "output_type": "execute_result"
    }
   ],
   "source": [
    "df_train[df_train['target']==1].head(10)"
   ]
  },
  {
   "cell_type": "markdown",
   "id": "467acf24",
   "metadata": {
    "papermill": {
     "duration": 0.036853,
     "end_time": "2022-04-03T22:26:54.166196",
     "exception": false,
     "start_time": "2022-04-03T22:26:54.129343",
     "status": "completed"
    },
    "tags": []
   },
   "source": [
    "# Lets try LSTM model to make predictions"
   ]
  },
  {
   "cell_type": "markdown",
   "id": "e5f87758",
   "metadata": {
    "papermill": {
     "duration": 0.038073,
     "end_time": "2022-04-03T22:26:54.241897",
     "exception": false,
     "start_time": "2022-04-03T22:26:54.203824",
     "status": "completed"
    },
    "tags": []
   },
   "source": [
    "For a person reading the tweets, its quite easy to understand which is a disaster and which one is not."
   ]
  },
  {
   "cell_type": "code",
   "execution_count": 12,
   "id": "3c545ebc",
   "metadata": {
    "execution": {
     "iopub.execute_input": "2022-04-03T22:26:54.324844Z",
     "iopub.status.busy": "2022-04-03T22:26:54.322160Z",
     "iopub.status.idle": "2022-04-03T22:27:00.910540Z",
     "shell.execute_reply": "2022-04-03T22:27:00.909884Z",
     "shell.execute_reply.started": "2022-04-03T22:04:48.001937Z"
    },
    "papermill": {
     "duration": 6.629345,
     "end_time": "2022-04-03T22:27:00.910695",
     "exception": false,
     "start_time": "2022-04-03T22:26:54.281350",
     "status": "completed"
    },
    "tags": []
   },
   "outputs": [],
   "source": [
    "import tensorflow as tf\n",
    "from tensorflow import keras\n",
    "from tensorflow.keras.preprocessing.text import Tokenizer\n",
    "from tensorflow.keras.preprocessing.sequence import pad_sequences"
   ]
  },
  {
   "cell_type": "markdown",
   "id": "dc4873e7",
   "metadata": {
    "papermill": {
     "duration": 0.04401,
     "end_time": "2022-04-03T22:27:01.005279",
     "exception": false,
     "start_time": "2022-04-03T22:27:00.961269",
     "status": "completed"
    },
    "tags": []
   },
   "source": [
    "We train our model on only the text column."
   ]
  },
  {
   "cell_type": "code",
   "execution_count": 13,
   "id": "22e773ef",
   "metadata": {
    "execution": {
     "iopub.execute_input": "2022-04-03T22:27:01.094036Z",
     "iopub.status.busy": "2022-04-03T22:27:01.093154Z",
     "iopub.status.idle": "2022-04-03T22:27:01.096147Z",
     "shell.execute_reply": "2022-04-03T22:27:01.095472Z",
     "shell.execute_reply.started": "2022-04-03T22:10:37.415252Z"
    },
    "papermill": {
     "duration": 0.048979,
     "end_time": "2022-04-03T22:27:01.096299",
     "exception": false,
     "start_time": "2022-04-03T22:27:01.047320",
     "status": "completed"
    },
    "tags": []
   },
   "outputs": [],
   "source": [
    "training_sentences = X_train_full['text']\n",
    "validation_sentences = X_valid_full['text']\n",
    "training_labels = y_train\n",
    "validation_labels = y_valid"
   ]
  },
  {
   "cell_type": "code",
   "execution_count": 14,
   "id": "739fbbbb",
   "metadata": {
    "execution": {
     "iopub.execute_input": "2022-04-03T22:27:01.175146Z",
     "iopub.status.busy": "2022-04-03T22:27:01.174141Z",
     "iopub.status.idle": "2022-04-03T22:27:01.178324Z",
     "shell.execute_reply": "2022-04-03T22:27:01.178805Z",
     "shell.execute_reply.started": "2022-04-03T22:13:40.765890Z"
    },
    "papermill": {
     "duration": 0.044993,
     "end_time": "2022-04-03T22:27:01.178984",
     "exception": false,
     "start_time": "2022-04-03T22:27:01.133991",
     "status": "completed"
    },
    "tags": []
   },
   "outputs": [],
   "source": [
    "training_labels_final = np.array(training_labels)\n",
    "validation_labels_final = np.array(validation_labels)"
   ]
  },
  {
   "cell_type": "code",
   "execution_count": 15,
   "id": "f5b191c0",
   "metadata": {
    "execution": {
     "iopub.execute_input": "2022-04-03T22:27:01.261719Z",
     "iopub.status.busy": "2022-04-03T22:27:01.260714Z",
     "iopub.status.idle": "2022-04-03T22:27:01.499420Z",
     "shell.execute_reply": "2022-04-03T22:27:01.499979Z",
     "shell.execute_reply.started": "2022-04-03T22:12:11.863452Z"
    },
    "papermill": {
     "duration": 0.282344,
     "end_time": "2022-04-03T22:27:01.500198",
     "exception": false,
     "start_time": "2022-04-03T22:27:01.217854",
     "status": "completed"
    },
    "tags": []
   },
   "outputs": [],
   "source": [
    "tokenizer = Tokenizer(num_words=100000, oov_token='<OOV>')\n",
    "tokenizer.fit_on_texts(training_sentences)\n",
    "\n",
    "tokenizer = Tokenizer(num_words=100000, oov_token='<OOV>')\n",
    "tokenizer.fit_on_texts(validation_sentences)"
   ]
  },
  {
   "cell_type": "code",
   "execution_count": 16,
   "id": "d1c2e6b7",
   "metadata": {
    "execution": {
     "iopub.execute_input": "2022-04-03T22:27:01.578946Z",
     "iopub.status.busy": "2022-04-03T22:27:01.577958Z",
     "iopub.status.idle": "2022-04-03T22:27:01.786792Z",
     "shell.execute_reply": "2022-04-03T22:27:01.786185Z",
     "shell.execute_reply.started": "2022-04-03T22:12:21.890797Z"
    },
    "papermill": {
     "duration": 0.249583,
     "end_time": "2022-04-03T22:27:01.786947",
     "exception": false,
     "start_time": "2022-04-03T22:27:01.537364",
     "status": "completed"
    },
    "tags": []
   },
   "outputs": [],
   "source": [
    "training_sequences = tokenizer.texts_to_sequences(training_sentences)\n",
    "pad_training = pad_sequences(training_sequences, maxlen=25, padding='post', truncating='post')\n",
    "\n",
    "validation_sequences = tokenizer.texts_to_sequences(validation_sentences)\n",
    "pad_validation = pad_sequences(validation_sequences, maxlen=25, padding='post', truncating='post')"
   ]
  },
  {
   "cell_type": "code",
   "execution_count": 17,
   "id": "cae5bcaf",
   "metadata": {
    "execution": {
     "iopub.execute_input": "2022-04-03T22:27:01.866588Z",
     "iopub.status.busy": "2022-04-03T22:27:01.865678Z",
     "iopub.status.idle": "2022-04-03T22:27:03.034211Z",
     "shell.execute_reply": "2022-04-03T22:27:03.033573Z",
     "shell.execute_reply.started": "2022-04-03T22:12:30.298728Z"
    },
    "papermill": {
     "duration": 1.2093,
     "end_time": "2022-04-03T22:27:03.034367",
     "exception": false,
     "start_time": "2022-04-03T22:27:01.825067",
     "status": "completed"
    },
    "tags": []
   },
   "outputs": [
    {
     "name": "stderr",
     "output_type": "stream",
     "text": [
      "2022-04-03 22:27:01.911925: I tensorflow/core/common_runtime/process_util.cc:146] Creating new thread pool with default inter op setting: 2. Tune using inter_op_parallelism_threads for best performance.\n"
     ]
    }
   ],
   "source": [
    "model = tf.keras.Sequential([\n",
    "    tf.keras.layers.Embedding(100000, 16, input_length=20),\n",
    "    tf.keras.layers.Bidirectional(tf.keras.layers.LSTM(64,return_sequences=True)),\n",
    "    tf.keras.layers.Bidirectional(tf.keras.layers.LSTM(32)),\n",
    "    tf.keras.layers.Dense(16, activation='relu'),\n",
    "    tf.keras.layers.Dense(1, activation='sigmoid')\n",
    "])"
   ]
  },
  {
   "cell_type": "code",
   "execution_count": 18,
   "id": "0a742d3e",
   "metadata": {
    "execution": {
     "iopub.execute_input": "2022-04-03T22:27:03.116345Z",
     "iopub.status.busy": "2022-04-03T22:27:03.115659Z",
     "iopub.status.idle": "2022-04-03T22:27:03.131219Z",
     "shell.execute_reply": "2022-04-03T22:27:03.131786Z",
     "shell.execute_reply.started": "2022-04-03T22:12:45.612727Z"
    },
    "papermill": {
     "duration": 0.058121,
     "end_time": "2022-04-03T22:27:03.131978",
     "exception": false,
     "start_time": "2022-04-03T22:27:03.073857",
     "status": "completed"
    },
    "tags": []
   },
   "outputs": [],
   "source": [
    "model.compile(loss='binary_crossentropy', optimizer='adam', metrics=['accuracy'])"
   ]
  },
  {
   "cell_type": "code",
   "execution_count": 19,
   "id": "70ade630",
   "metadata": {
    "execution": {
     "iopub.execute_input": "2022-04-03T22:27:03.218631Z",
     "iopub.status.busy": "2022-04-03T22:27:03.217674Z",
     "iopub.status.idle": "2022-04-03T22:30:36.951909Z",
     "shell.execute_reply": "2022-04-03T22:30:36.951194Z",
     "shell.execute_reply.started": "2022-04-03T22:13:46.902316Z"
    },
    "papermill": {
     "duration": 213.780659,
     "end_time": "2022-04-03T22:30:36.952100",
     "exception": false,
     "start_time": "2022-04-03T22:27:03.171441",
     "status": "completed"
    },
    "tags": []
   },
   "outputs": [
    {
     "name": "stderr",
     "output_type": "stream",
     "text": [
      "2022-04-03 22:27:03.275426: I tensorflow/compiler/mlir/mlir_graph_optimization_pass.cc:185] None of the MLIR Optimization Passes are enabled (registered 2)\n"
     ]
    },
    {
     "name": "stdout",
     "output_type": "stream",
     "text": [
      "Epoch 1/15\n",
      "191/191 [==============================] - 23s 80ms/step - loss: 0.5474 - accuracy: 0.7118 - val_loss: 0.4656 - val_accuracy: 0.7945\n",
      "Epoch 2/15\n",
      "191/191 [==============================] - 14s 72ms/step - loss: 0.3776 - accuracy: 0.8376 - val_loss: 0.4946 - val_accuracy: 0.8109\n",
      "Epoch 3/15\n",
      "191/191 [==============================] - 13s 67ms/step - loss: 0.3208 - accuracy: 0.8732 - val_loss: 0.4636 - val_accuracy: 0.8017\n",
      "Epoch 4/15\n",
      "191/191 [==============================] - 14s 74ms/step - loss: 0.2747 - accuracy: 0.8928 - val_loss: 0.5627 - val_accuracy: 0.7873\n",
      "Epoch 5/15\n",
      "191/191 [==============================] - 13s 68ms/step - loss: 0.2437 - accuracy: 0.9074 - val_loss: 0.5544 - val_accuracy: 0.7853\n",
      "Epoch 6/15\n",
      "191/191 [==============================] - 13s 68ms/step - loss: 0.2213 - accuracy: 0.9176 - val_loss: 0.5848 - val_accuracy: 0.7846\n",
      "Epoch 7/15\n",
      "191/191 [==============================] - 14s 74ms/step - loss: 0.1909 - accuracy: 0.9343 - val_loss: 0.6993 - val_accuracy: 0.7768\n",
      "Epoch 8/15\n",
      "191/191 [==============================] - 13s 70ms/step - loss: 0.1695 - accuracy: 0.9415 - val_loss: 0.6788 - val_accuracy: 0.7820\n",
      "Epoch 9/15\n",
      "191/191 [==============================] - 14s 74ms/step - loss: 0.1514 - accuracy: 0.9489 - val_loss: 0.8371 - val_accuracy: 0.7636\n",
      "Epoch 10/15\n",
      "191/191 [==============================] - 13s 69ms/step - loss: 0.1374 - accuracy: 0.9522 - val_loss: 0.7343 - val_accuracy: 0.7820\n",
      "Epoch 11/15\n",
      "191/191 [==============================] - 14s 71ms/step - loss: 0.1249 - accuracy: 0.9570 - val_loss: 0.8623 - val_accuracy: 0.7814\n",
      "Epoch 12/15\n",
      "191/191 [==============================] - 13s 70ms/step - loss: 0.1127 - accuracy: 0.9604 - val_loss: 0.9118 - val_accuracy: 0.7663\n",
      "Epoch 13/15\n",
      "191/191 [==============================] - 14s 73ms/step - loss: 0.1080 - accuracy: 0.9606 - val_loss: 0.8685 - val_accuracy: 0.7708\n",
      "Epoch 14/15\n",
      "191/191 [==============================] - 14s 75ms/step - loss: 0.0993 - accuracy: 0.9631 - val_loss: 0.9785 - val_accuracy: 0.7643\n",
      "Epoch 15/15\n",
      "191/191 [==============================] - 14s 73ms/step - loss: 0.0909 - accuracy: 0.9685 - val_loss: 1.0436 - val_accuracy: 0.7663\n"
     ]
    }
   ],
   "source": [
    "history = model.fit(pad_training, training_labels_final, epochs=15, validation_data=(pad_validation, validation_labels_final))"
   ]
  },
  {
   "cell_type": "code",
   "execution_count": 20,
   "id": "3dabbf2b",
   "metadata": {
    "execution": {
     "iopub.execute_input": "2022-04-03T22:30:39.157322Z",
     "iopub.status.busy": "2022-04-03T22:30:39.156554Z",
     "iopub.status.idle": "2022-04-03T22:30:39.161132Z",
     "shell.execute_reply": "2022-04-03T22:30:39.161783Z",
     "shell.execute_reply.started": "2022-04-03T22:23:15.195509Z"
    },
    "papermill": {
     "duration": 1.109111,
     "end_time": "2022-04-03T22:30:39.161968",
     "exception": false,
     "start_time": "2022-04-03T22:30:38.052857",
     "status": "completed"
    },
    "tags": []
   },
   "outputs": [],
   "source": [
    "import matplotlib.pyplot as plt\n",
    "def plot_graph(history, string):\n",
    "    plt.plot(history.history[string])\n",
    "    plt.plot(history.history['val_'+string])\n",
    "    plt.show()"
   ]
  },
  {
   "cell_type": "code",
   "execution_count": 21,
   "id": "01a42e1d",
   "metadata": {
    "execution": {
     "iopub.execute_input": "2022-04-03T22:30:41.405764Z",
     "iopub.status.busy": "2022-04-03T22:30:41.398879Z",
     "iopub.status.idle": "2022-04-03T22:30:41.799999Z",
     "shell.execute_reply": "2022-04-03T22:30:41.798995Z",
     "shell.execute_reply.started": "2022-04-03T22:23:15.852697Z"
    },
    "papermill": {
     "duration": 1.527818,
     "end_time": "2022-04-03T22:30:41.800253",
     "exception": false,
     "start_time": "2022-04-03T22:30:40.272435",
     "status": "completed"
    },
    "tags": []
   },
   "outputs": [
    {
     "data": {
      "image/png": "[encoded data removed]",
      "text/plain": [
       "<Figure size 432x288 with 1 Axes>"
      ]
     },
     "metadata": {
      "needs_background": "light"
     },
     "output_type": "display_data"
    },
    {
     "data": {
      "image/png": "[encoded data removed]",
      "text/plain": [
       "<Figure size 432x288 with 1 Axes>"
      ]
     },
     "metadata": {
      "needs_background": "light"
     },
     "output_type": "display_data"
    }
   ],
   "source": [
    "plot_graph(history, 'accuracy')\n",
    "plot_graph(history, 'loss')"
   ]
  },
  {
   "cell_type": "code",
   "execution_count": 22,
   "id": "6d80b63b",
   "metadata": {
    "execution": {
     "iopub.execute_input": "2022-04-03T22:30:44.113999Z",
     "iopub.status.busy": "2022-04-03T22:30:44.098417Z",
     "iopub.status.idle": "2022-04-03T22:30:44.149403Z",
     "shell.execute_reply": "2022-04-03T22:30:44.148814Z",
     "shell.execute_reply.started": "2022-04-03T22:24:29.220528Z"
    },
    "papermill": {
     "duration": 1.194689,
     "end_time": "2022-04-03T22:30:44.149563",
     "exception": false,
     "start_time": "2022-04-03T22:30:42.954874",
     "status": "completed"
    },
    "tags": []
   },
   "outputs": [],
   "source": [
    "test_sequences = tokenizer.texts_to_sequences(df_test.text)\n",
    "pad_test = pad_sequences(test_sequences,maxlen=25, padding='post', truncating='post')"
   ]
  },
  {
   "cell_type": "code",
   "execution_count": 23,
   "id": "2142b84b",
   "metadata": {
    "execution": {
     "iopub.execute_input": "2022-04-03T22:30:46.340600Z",
     "iopub.status.busy": "2022-04-03T22:30:46.339576Z",
     "iopub.status.idle": "2022-04-03T22:30:49.766281Z",
     "shell.execute_reply": "2022-04-03T22:30:49.766903Z",
     "shell.execute_reply.started": "2022-04-03T22:25:27.534435Z"
    },
    "papermill": {
     "duration": 4.519928,
     "end_time": "2022-04-03T22:30:49.767101",
     "exception": false,
     "start_time": "2022-04-03T22:30:45.247173",
     "status": "completed"
    },
    "tags": []
   },
   "outputs": [],
   "source": [
    "submission=pd.read_csv(\"/kaggle/input/nlp-getting-started/sample_submission.csv\", index_col='id')\n",
    "prediction = model.predict(pad_test)\n",
    "submission['target'] = (prediction>0.5).astype(int)"
   ]
  },
  {
   "cell_type": "code",
   "execution_count": 24,
   "id": "b85620d6",
   "metadata": {
    "execution": {
     "iopub.execute_input": "2022-04-03T22:30:51.969887Z",
     "iopub.status.busy": "2022-04-03T22:30:51.968854Z",
     "iopub.status.idle": "2022-04-03T22:30:51.983488Z",
     "shell.execute_reply": "2022-04-03T22:30:51.984472Z",
     "shell.execute_reply.started": "2022-04-03T22:25:52.951533Z"
    },
    "papermill": {
     "duration": 1.12529,
     "end_time": "2022-04-03T22:30:51.984734",
     "exception": false,
     "start_time": "2022-04-03T22:30:50.859444",
     "status": "completed"
    },
    "tags": []
   },
   "outputs": [],
   "source": [
    "submission.to_csv('submission1_lstm.csv', index=False, header=True)"
   ]
  },
  {
   "cell_type": "code",
   "execution_count": null,
   "id": "426393d2",
   "metadata": {
    "papermill": {
     "duration": 1.092841,
     "end_time": "2022-04-03T22:30:54.163659",
     "exception": false,
     "start_time": "2022-04-03T22:30:53.070818",
     "status": "completed"
    },
    "tags": []
   },
   "outputs": [],
   "source": []
  }
 ],
 "metadata": {
  "kernelspec": {
   "display_name": "Python 3",
   "language": "python",
   "name": "python3"
  },
  "language_info": {
   "codemirror_mode": {
    "name": "ipython",
    "version": 3
   },
   "file_extension": ".py",
   "mimetype": "text/x-python",
   "name": "python",
   "nbconvert_exporter": "python",
   "pygments_lexer": "ipython3",
   "version": "3.7.12"
  },
  "papermill": {
   "default_parameters": {},
   "duration": 258.276466,
   "end_time": "2022-04-03T22:30:58.371568",
   "environment_variables": {},
   "exception": null,
   "input_path": "__notebook__.ipynb",
   "output_path": "__notebook__.ipynb",
   "parameters": {},
   "start_time": "2022-04-03T22:26:40.095102",
   "version": "2.3.3"
  }
 },
 "nbformat": 4,
 "nbformat_minor": 5
}
